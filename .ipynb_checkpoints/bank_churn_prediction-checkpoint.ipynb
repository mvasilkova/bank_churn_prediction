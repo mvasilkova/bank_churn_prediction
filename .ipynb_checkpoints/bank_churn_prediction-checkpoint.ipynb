{
 "cells": [
  {
   "cell_type": "markdown",
   "metadata": {
    "toc": true
   },
   "source": [
    "<h1>Содержание<span class=\"tocSkip\"></span></h1>\n",
    "<div class=\"toc\"><ul class=\"toc-item\"><li><span><a href=\"#Подготовка-данных\" data-toc-modified-id=\"Подготовка-данных-1\"><span class=\"toc-item-num\">1&nbsp;&nbsp;</span>Подготовка данных</a></span></li><li><span><a href=\"#Исследование-задачи\" data-toc-modified-id=\"Исследование-задачи-2\"><span class=\"toc-item-num\">2&nbsp;&nbsp;</span>Исследование задачи</a></span><ul class=\"toc-item\"><li><span><a href=\"#Логистическая-регрессия\" data-toc-modified-id=\"Логистическая-регрессия-2.1\"><span class=\"toc-item-num\">2.1&nbsp;&nbsp;</span>Логистическая регрессия</a></span></li><li><span><a href=\"#Случайный-лес\" data-toc-modified-id=\"Случайный-лес-2.2\"><span class=\"toc-item-num\">2.2&nbsp;&nbsp;</span>Случайный лес</a></span></li></ul></li><li><span><a href=\"#Борьба-с-дисбалансом\" data-toc-modified-id=\"Борьба-с-дисбалансом-3\"><span class=\"toc-item-num\">3&nbsp;&nbsp;</span>Борьба с дисбалансом</a></span><ul class=\"toc-item\"><li><span><a href=\"#Использование-аргумента-class-weight\" data-toc-modified-id=\"Использование-аргумента-class-weight-3.1\"><span class=\"toc-item-num\">3.1&nbsp;&nbsp;</span>Использование аргумента class weight</a></span></li><li><span><a href=\"#Увеличение-числа-объектов-редкого-класса\" data-toc-modified-id=\"Увеличение-числа-объектов-редкого-класса-3.2\"><span class=\"toc-item-num\">3.2&nbsp;&nbsp;</span>Увеличение числа объектов редкого класса</a></span></li></ul></li><li><span><a href=\"#Тестирование-модели\" data-toc-modified-id=\"Тестирование-модели-4\"><span class=\"toc-item-num\">4&nbsp;&nbsp;</span>Тестирование модели</a></span></li><li><span><a href=\"#Вывод\" data-toc-modified-id=\"Вывод-5\"><span class=\"toc-item-num\">5&nbsp;&nbsp;</span>Вывод</a></span></li>"
   ]
  },
  {
   "cell_type": "markdown",
   "metadata": {},
   "source": [
    "# Отток клиентов банка"
   ]
  },
  {
   "cell_type": "markdown",
   "metadata": {},
   "source": [
    "Из «Бета-Банка» стали уходить клиенты. Каждый месяц. Немного, но заметно. Банковские маркетологи посчитали: сохранять текущих клиентов дешевле, чем привлекать новых.\n",
    "\n",
    "Нужно спрогнозировать, уйдёт клиент из банка в ближайшее время или нет. Вам предоставлены исторические данные о поведении клиентов и расторжении договоров с банком. \n",
    "\n",
    "Постройте модель с предельно большим значением *F1*-меры. Чтобы сдать проект успешно, нужно довести метрику до 0.59. Проверьте *F1*-меру на тестовой выборке самостоятельно.\n",
    "\n",
    "Дополнительно измеряйте *AUC-ROC*, сравнивайте её значение с *F1*-мерой.\n",
    "\n",
    "Источник данных: [https://www.kaggle.com/barelydedicated/bank-customer-churn-modeling](https://www.kaggle.com/barelydedicated/bank-customer-churn-modeling)"
   ]
  },
  {
   "cell_type": "markdown",
   "metadata": {},
   "source": [
    "## Подготовка данных"
   ]
  },
  {
   "cell_type": "code",
   "execution_count": 1,
   "metadata": {},
   "outputs": [
    {
     "name": "stdout",
     "output_type": "stream",
     "text": [
      "Requirement already satisfied: scikit-learn==1.1.3 in /opt/conda/lib/python3.9/site-packages (1.1.3)\r\n",
      "Requirement already satisfied: joblib>=1.0.0 in /opt/conda/lib/python3.9/site-packages (from scikit-learn==1.1.3) (1.1.0)\r\n",
      "Requirement already satisfied: numpy>=1.17.3 in /opt/conda/lib/python3.9/site-packages (from scikit-learn==1.1.3) (1.21.1)\r\n",
      "Requirement already satisfied: scipy>=1.3.2 in /opt/conda/lib/python3.9/site-packages (from scikit-learn==1.1.3) (1.9.1)\r\n",
      "Requirement already satisfied: threadpoolctl>=2.0.0 in /opt/conda/lib/python3.9/site-packages (from scikit-learn==1.1.3) (3.1.0)\r\n"
     ]
    }
   ],
   "source": [
    "!pip install scikit-learn==1.1.3"
   ]
  },
  {
   "cell_type": "code",
   "execution_count": 2,
   "metadata": {},
   "outputs": [],
   "source": [
    "import pandas as pd\n",
    "from matplotlib import pyplot as plt\n",
    "\n",
    "from sklearn.linear_model import LogisticRegression\n",
    "from sklearn.ensemble import RandomForestClassifier\n",
    "from sklearn.model_selection import train_test_split\n",
    "from sklearn.metrics import f1_score, roc_auc_score, recall_score\n",
    "\n",
    "from sklearn.preprocessing import OneHotEncoder, StandardScaler\n",
    "\n",
    "from sklearn.dummy import DummyClassifier\n",
    "\n",
    "from sklearn.utils import shuffle"
   ]
  },
  {
   "cell_type": "code",
   "execution_count": 3,
   "metadata": {},
   "outputs": [],
   "source": [
    "pd.set_option(\"display.precision\", 2)"
   ]
  },
  {
   "cell_type": "markdown",
   "metadata": {},
   "source": [
    "Сначала загрузим данные и оценим их качество, при необходимости обработаем пропуски, дубликаты и аномалии.  "
   ]
  },
  {
   "cell_type": "code",
   "execution_count": 4,
   "metadata": {},
   "outputs": [],
   "source": [
    "data = pd.read_csv('/datasets/Churn.csv')"
   ]
  },
  {
   "cell_type": "code",
   "execution_count": 5,
   "metadata": {},
   "outputs": [
    {
     "data": {
      "text/html": [
       "<div>\n",
       "<style scoped>\n",
       "    .dataframe tbody tr th:only-of-type {\n",
       "        vertical-align: middle;\n",
       "    }\n",
       "\n",
       "    .dataframe tbody tr th {\n",
       "        vertical-align: top;\n",
       "    }\n",
       "\n",
       "    .dataframe thead th {\n",
       "        text-align: right;\n",
       "    }\n",
       "</style>\n",
       "<table border=\"1\" class=\"dataframe\">\n",
       "  <thead>\n",
       "    <tr style=\"text-align: right;\">\n",
       "      <th></th>\n",
       "      <th>RowNumber</th>\n",
       "      <th>CustomerId</th>\n",
       "      <th>Surname</th>\n",
       "      <th>CreditScore</th>\n",
       "      <th>Geography</th>\n",
       "      <th>Gender</th>\n",
       "      <th>Age</th>\n",
       "      <th>Tenure</th>\n",
       "      <th>Balance</th>\n",
       "      <th>NumOfProducts</th>\n",
       "      <th>HasCrCard</th>\n",
       "      <th>IsActiveMember</th>\n",
       "      <th>EstimatedSalary</th>\n",
       "      <th>Exited</th>\n",
       "    </tr>\n",
       "  </thead>\n",
       "  <tbody>\n",
       "    <tr>\n",
       "      <th>0</th>\n",
       "      <td>1</td>\n",
       "      <td>15634602</td>\n",
       "      <td>Hargrave</td>\n",
       "      <td>619</td>\n",
       "      <td>France</td>\n",
       "      <td>Female</td>\n",
       "      <td>42</td>\n",
       "      <td>2.0</td>\n",
       "      <td>0.00</td>\n",
       "      <td>1</td>\n",
       "      <td>1</td>\n",
       "      <td>1</td>\n",
       "      <td>101348.88</td>\n",
       "      <td>1</td>\n",
       "    </tr>\n",
       "    <tr>\n",
       "      <th>1</th>\n",
       "      <td>2</td>\n",
       "      <td>15647311</td>\n",
       "      <td>Hill</td>\n",
       "      <td>608</td>\n",
       "      <td>Spain</td>\n",
       "      <td>Female</td>\n",
       "      <td>41</td>\n",
       "      <td>1.0</td>\n",
       "      <td>83807.86</td>\n",
       "      <td>1</td>\n",
       "      <td>0</td>\n",
       "      <td>1</td>\n",
       "      <td>112542.58</td>\n",
       "      <td>0</td>\n",
       "    </tr>\n",
       "    <tr>\n",
       "      <th>2</th>\n",
       "      <td>3</td>\n",
       "      <td>15619304</td>\n",
       "      <td>Onio</td>\n",
       "      <td>502</td>\n",
       "      <td>France</td>\n",
       "      <td>Female</td>\n",
       "      <td>42</td>\n",
       "      <td>8.0</td>\n",
       "      <td>159660.80</td>\n",
       "      <td>3</td>\n",
       "      <td>1</td>\n",
       "      <td>0</td>\n",
       "      <td>113931.57</td>\n",
       "      <td>1</td>\n",
       "    </tr>\n",
       "    <tr>\n",
       "      <th>3</th>\n",
       "      <td>4</td>\n",
       "      <td>15701354</td>\n",
       "      <td>Boni</td>\n",
       "      <td>699</td>\n",
       "      <td>France</td>\n",
       "      <td>Female</td>\n",
       "      <td>39</td>\n",
       "      <td>1.0</td>\n",
       "      <td>0.00</td>\n",
       "      <td>2</td>\n",
       "      <td>0</td>\n",
       "      <td>0</td>\n",
       "      <td>93826.63</td>\n",
       "      <td>0</td>\n",
       "    </tr>\n",
       "    <tr>\n",
       "      <th>4</th>\n",
       "      <td>5</td>\n",
       "      <td>15737888</td>\n",
       "      <td>Mitchell</td>\n",
       "      <td>850</td>\n",
       "      <td>Spain</td>\n",
       "      <td>Female</td>\n",
       "      <td>43</td>\n",
       "      <td>2.0</td>\n",
       "      <td>125510.82</td>\n",
       "      <td>1</td>\n",
       "      <td>1</td>\n",
       "      <td>1</td>\n",
       "      <td>79084.10</td>\n",
       "      <td>0</td>\n",
       "    </tr>\n",
       "  </tbody>\n",
       "</table>\n",
       "</div>"
      ],
      "text/plain": [
       "   RowNumber  CustomerId   Surname  CreditScore Geography  Gender  Age  \\\n",
       "0          1    15634602  Hargrave          619    France  Female   42   \n",
       "1          2    15647311      Hill          608     Spain  Female   41   \n",
       "2          3    15619304      Onio          502    France  Female   42   \n",
       "3          4    15701354      Boni          699    France  Female   39   \n",
       "4          5    15737888  Mitchell          850     Spain  Female   43   \n",
       "\n",
       "   Tenure    Balance  NumOfProducts  HasCrCard  IsActiveMember  \\\n",
       "0     2.0       0.00              1          1               1   \n",
       "1     1.0   83807.86              1          0               1   \n",
       "2     8.0  159660.80              3          1               0   \n",
       "3     1.0       0.00              2          0               0   \n",
       "4     2.0  125510.82              1          1               1   \n",
       "\n",
       "   EstimatedSalary  Exited  \n",
       "0        101348.88       1  \n",
       "1        112542.58       0  \n",
       "2        113931.57       1  \n",
       "3         93826.63       0  \n",
       "4         79084.10       0  "
      ]
     },
     "execution_count": 5,
     "metadata": {},
     "output_type": "execute_result"
    }
   ],
   "source": [
    "data.head()"
   ]
  },
  {
   "cell_type": "markdown",
   "metadata": {},
   "source": [
    "Столбцы RowNumber, CustomerId и Surname не несут никакой полезной для предсказания оттока информации, их можно удалить."
   ]
  },
  {
   "cell_type": "code",
   "execution_count": 6,
   "metadata": {},
   "outputs": [],
   "source": [
    "data = data.drop(['RowNumber', 'CustomerId', 'Surname'], axis=1)"
   ]
  },
  {
   "cell_type": "code",
   "execution_count": 7,
   "metadata": {},
   "outputs": [
    {
     "data": {
      "text/plain": [
       "(10000, 11)"
      ]
     },
     "execution_count": 7,
     "metadata": {},
     "output_type": "execute_result"
    }
   ],
   "source": [
    "data.shape"
   ]
  },
  {
   "cell_type": "code",
   "execution_count": 8,
   "metadata": {},
   "outputs": [
    {
     "name": "stdout",
     "output_type": "stream",
     "text": [
      "<class 'pandas.core.frame.DataFrame'>\n",
      "RangeIndex: 10000 entries, 0 to 9999\n",
      "Data columns (total 11 columns):\n",
      " #   Column           Non-Null Count  Dtype  \n",
      "---  ------           --------------  -----  \n",
      " 0   CreditScore      10000 non-null  int64  \n",
      " 1   Geography        10000 non-null  object \n",
      " 2   Gender           10000 non-null  object \n",
      " 3   Age              10000 non-null  int64  \n",
      " 4   Tenure           9091 non-null   float64\n",
      " 5   Balance          10000 non-null  float64\n",
      " 6   NumOfProducts    10000 non-null  int64  \n",
      " 7   HasCrCard        10000 non-null  int64  \n",
      " 8   IsActiveMember   10000 non-null  int64  \n",
      " 9   EstimatedSalary  10000 non-null  float64\n",
      " 10  Exited           10000 non-null  int64  \n",
      "dtypes: float64(3), int64(6), object(2)\n",
      "memory usage: 859.5+ KB\n"
     ]
    }
   ],
   "source": [
    "data.info()"
   ]
  },
  {
   "cell_type": "code",
   "execution_count": 9,
   "metadata": {},
   "outputs": [
    {
     "data": {
      "text/plain": [
       "0"
      ]
     },
     "execution_count": 9,
     "metadata": {},
     "output_type": "execute_result"
    }
   ],
   "source": [
    "data.duplicated().sum()"
   ]
  },
  {
   "cell_type": "code",
   "execution_count": 10,
   "metadata": {},
   "outputs": [
    {
     "data": {
      "text/plain": [
       "array(['France', 'Spain', 'Germany'], dtype=object)"
      ]
     },
     "execution_count": 10,
     "metadata": {},
     "output_type": "execute_result"
    }
   ],
   "source": [
    "data['Geography'].unique()"
   ]
  },
  {
   "cell_type": "code",
   "execution_count": 11,
   "metadata": {},
   "outputs": [
    {
     "data": {
      "text/plain": [
       "array(['Female', 'Male'], dtype=object)"
      ]
     },
     "execution_count": 11,
     "metadata": {},
     "output_type": "execute_result"
    }
   ],
   "source": [
    "data['Gender'].unique()"
   ]
  },
  {
   "cell_type": "code",
   "execution_count": 12,
   "metadata": {},
   "outputs": [
    {
     "data": {
      "text/html": [
       "<div>\n",
       "<style scoped>\n",
       "    .dataframe tbody tr th:only-of-type {\n",
       "        vertical-align: middle;\n",
       "    }\n",
       "\n",
       "    .dataframe tbody tr th {\n",
       "        vertical-align: top;\n",
       "    }\n",
       "\n",
       "    .dataframe thead th {\n",
       "        text-align: right;\n",
       "    }\n",
       "</style>\n",
       "<table border=\"1\" class=\"dataframe\">\n",
       "  <thead>\n",
       "    <tr style=\"text-align: right;\">\n",
       "      <th></th>\n",
       "      <th>count</th>\n",
       "      <th>unique</th>\n",
       "      <th>top</th>\n",
       "      <th>freq</th>\n",
       "      <th>mean</th>\n",
       "      <th>std</th>\n",
       "      <th>min</th>\n",
       "      <th>25%</th>\n",
       "      <th>50%</th>\n",
       "      <th>75%</th>\n",
       "      <th>max</th>\n",
       "    </tr>\n",
       "  </thead>\n",
       "  <tbody>\n",
       "    <tr>\n",
       "      <th>CreditScore</th>\n",
       "      <td>10000.0</td>\n",
       "      <td>NaN</td>\n",
       "      <td>NaN</td>\n",
       "      <td>NaN</td>\n",
       "      <td>650.53</td>\n",
       "      <td>96.65</td>\n",
       "      <td>350.0</td>\n",
       "      <td>584.0</td>\n",
       "      <td>652.0</td>\n",
       "      <td>718.0</td>\n",
       "      <td>850.0</td>\n",
       "    </tr>\n",
       "    <tr>\n",
       "      <th>Geography</th>\n",
       "      <td>10000</td>\n",
       "      <td>3</td>\n",
       "      <td>France</td>\n",
       "      <td>5014</td>\n",
       "      <td>NaN</td>\n",
       "      <td>NaN</td>\n",
       "      <td>NaN</td>\n",
       "      <td>NaN</td>\n",
       "      <td>NaN</td>\n",
       "      <td>NaN</td>\n",
       "      <td>NaN</td>\n",
       "    </tr>\n",
       "    <tr>\n",
       "      <th>Gender</th>\n",
       "      <td>10000</td>\n",
       "      <td>2</td>\n",
       "      <td>Male</td>\n",
       "      <td>5457</td>\n",
       "      <td>NaN</td>\n",
       "      <td>NaN</td>\n",
       "      <td>NaN</td>\n",
       "      <td>NaN</td>\n",
       "      <td>NaN</td>\n",
       "      <td>NaN</td>\n",
       "      <td>NaN</td>\n",
       "    </tr>\n",
       "    <tr>\n",
       "      <th>Age</th>\n",
       "      <td>10000.0</td>\n",
       "      <td>NaN</td>\n",
       "      <td>NaN</td>\n",
       "      <td>NaN</td>\n",
       "      <td>38.92</td>\n",
       "      <td>10.49</td>\n",
       "      <td>18.0</td>\n",
       "      <td>32.0</td>\n",
       "      <td>37.0</td>\n",
       "      <td>44.0</td>\n",
       "      <td>92.0</td>\n",
       "    </tr>\n",
       "    <tr>\n",
       "      <th>Tenure</th>\n",
       "      <td>9091.0</td>\n",
       "      <td>NaN</td>\n",
       "      <td>NaN</td>\n",
       "      <td>NaN</td>\n",
       "      <td>5.0</td>\n",
       "      <td>2.89</td>\n",
       "      <td>0.0</td>\n",
       "      <td>2.0</td>\n",
       "      <td>5.0</td>\n",
       "      <td>7.0</td>\n",
       "      <td>10.0</td>\n",
       "    </tr>\n",
       "    <tr>\n",
       "      <th>Balance</th>\n",
       "      <td>10000.0</td>\n",
       "      <td>NaN</td>\n",
       "      <td>NaN</td>\n",
       "      <td>NaN</td>\n",
       "      <td>76485.89</td>\n",
       "      <td>62397.41</td>\n",
       "      <td>0.0</td>\n",
       "      <td>0.0</td>\n",
       "      <td>97198.54</td>\n",
       "      <td>127644.24</td>\n",
       "      <td>250898.09</td>\n",
       "    </tr>\n",
       "    <tr>\n",
       "      <th>NumOfProducts</th>\n",
       "      <td>10000.0</td>\n",
       "      <td>NaN</td>\n",
       "      <td>NaN</td>\n",
       "      <td>NaN</td>\n",
       "      <td>1.53</td>\n",
       "      <td>0.58</td>\n",
       "      <td>1.0</td>\n",
       "      <td>1.0</td>\n",
       "      <td>1.0</td>\n",
       "      <td>2.0</td>\n",
       "      <td>4.0</td>\n",
       "    </tr>\n",
       "    <tr>\n",
       "      <th>HasCrCard</th>\n",
       "      <td>10000.0</td>\n",
       "      <td>NaN</td>\n",
       "      <td>NaN</td>\n",
       "      <td>NaN</td>\n",
       "      <td>0.71</td>\n",
       "      <td>0.46</td>\n",
       "      <td>0.0</td>\n",
       "      <td>0.0</td>\n",
       "      <td>1.0</td>\n",
       "      <td>1.0</td>\n",
       "      <td>1.0</td>\n",
       "    </tr>\n",
       "    <tr>\n",
       "      <th>IsActiveMember</th>\n",
       "      <td>10000.0</td>\n",
       "      <td>NaN</td>\n",
       "      <td>NaN</td>\n",
       "      <td>NaN</td>\n",
       "      <td>0.52</td>\n",
       "      <td>0.5</td>\n",
       "      <td>0.0</td>\n",
       "      <td>0.0</td>\n",
       "      <td>1.0</td>\n",
       "      <td>1.0</td>\n",
       "      <td>1.0</td>\n",
       "    </tr>\n",
       "    <tr>\n",
       "      <th>EstimatedSalary</th>\n",
       "      <td>10000.0</td>\n",
       "      <td>NaN</td>\n",
       "      <td>NaN</td>\n",
       "      <td>NaN</td>\n",
       "      <td>100090.24</td>\n",
       "      <td>57510.49</td>\n",
       "      <td>11.58</td>\n",
       "      <td>51002.11</td>\n",
       "      <td>100193.91</td>\n",
       "      <td>149388.25</td>\n",
       "      <td>199992.48</td>\n",
       "    </tr>\n",
       "    <tr>\n",
       "      <th>Exited</th>\n",
       "      <td>10000.0</td>\n",
       "      <td>NaN</td>\n",
       "      <td>NaN</td>\n",
       "      <td>NaN</td>\n",
       "      <td>0.2</td>\n",
       "      <td>0.4</td>\n",
       "      <td>0.0</td>\n",
       "      <td>0.0</td>\n",
       "      <td>0.0</td>\n",
       "      <td>0.0</td>\n",
       "      <td>1.0</td>\n",
       "    </tr>\n",
       "  </tbody>\n",
       "</table>\n",
       "</div>"
      ],
      "text/plain": [
       "                   count unique     top  freq       mean       std    min  \\\n",
       "CreditScore      10000.0    NaN     NaN   NaN     650.53     96.65  350.0   \n",
       "Geography          10000      3  France  5014        NaN       NaN    NaN   \n",
       "Gender             10000      2    Male  5457        NaN       NaN    NaN   \n",
       "Age              10000.0    NaN     NaN   NaN      38.92     10.49   18.0   \n",
       "Tenure            9091.0    NaN     NaN   NaN        5.0      2.89    0.0   \n",
       "Balance          10000.0    NaN     NaN   NaN   76485.89  62397.41    0.0   \n",
       "NumOfProducts    10000.0    NaN     NaN   NaN       1.53      0.58    1.0   \n",
       "HasCrCard        10000.0    NaN     NaN   NaN       0.71      0.46    0.0   \n",
       "IsActiveMember   10000.0    NaN     NaN   NaN       0.52       0.5    0.0   \n",
       "EstimatedSalary  10000.0    NaN     NaN   NaN  100090.24  57510.49  11.58   \n",
       "Exited           10000.0    NaN     NaN   NaN        0.2       0.4    0.0   \n",
       "\n",
       "                      25%        50%        75%        max  \n",
       "CreditScore         584.0      652.0      718.0      850.0  \n",
       "Geography             NaN        NaN        NaN        NaN  \n",
       "Gender                NaN        NaN        NaN        NaN  \n",
       "Age                  32.0       37.0       44.0       92.0  \n",
       "Tenure                2.0        5.0        7.0       10.0  \n",
       "Balance               0.0   97198.54  127644.24  250898.09  \n",
       "NumOfProducts         1.0        1.0        2.0        4.0  \n",
       "HasCrCard             0.0        1.0        1.0        1.0  \n",
       "IsActiveMember        0.0        1.0        1.0        1.0  \n",
       "EstimatedSalary  51002.11  100193.91  149388.25  199992.48  \n",
       "Exited                0.0        0.0        0.0        1.0  "
      ]
     },
     "execution_count": 12,
     "metadata": {},
     "output_type": "execute_result"
    }
   ],
   "source": [
    "data.describe(include='all').T"
   ]
  },
  {
   "cell_type": "code",
   "execution_count": 13,
   "metadata": {},
   "outputs": [
    {
     "data": {
      "image/png": "[encoded data removed]",
      "text/plain": [
       "<Figure size 1152x864 with 9 Axes>"
      ]
     },
     "metadata": {
      "needs_background": "light"
     },
     "output_type": "display_data"
    }
   ],
   "source": [
    "data.hist(figsize=(16,12), bins=50);"
   ]
  },
  {
   "cell_type": "code",
   "execution_count": 14,
   "metadata": {},
   "outputs": [
    {
     "data": {
      "text/plain": [
       "Gender\n",
       "Female    5.0\n",
       "Male      5.0\n",
       "Name: Tenure, dtype: float64"
      ]
     },
     "execution_count": 14,
     "metadata": {},
     "output_type": "execute_result"
    }
   ],
   "source": [
    "data.groupby('Gender')['Tenure'].median()"
   ]
  },
  {
   "cell_type": "code",
   "execution_count": 15,
   "metadata": {},
   "outputs": [
    {
     "data": {
      "text/plain": [
       "Geography\n",
       "France     5.0\n",
       "Germany    5.0\n",
       "Spain      5.0\n",
       "Name: Tenure, dtype: float64"
      ]
     },
     "execution_count": 15,
     "metadata": {},
     "output_type": "execute_result"
    }
   ],
   "source": [
    "data.groupby('Geography')['Tenure'].median()"
   ]
  },
  {
   "cell_type": "markdown",
   "metadata": {},
   "source": [
    "Медианные значения признака `Tenure` не отличаются в группах клиентов по полу и географии, поэтому можем заменить пропуски всего столбца просто на общее медианное значение."
   ]
  },
  {
   "cell_type": "code",
   "execution_count": 16,
   "metadata": {},
   "outputs": [],
   "source": [
    "data['Tenure'] = data['Tenure'].fillna(data['Tenure'].median())"
   ]
  },
  {
   "cell_type": "markdown",
   "metadata": {},
   "source": [
    "У нас есть информация о 10000 клиентах банка.  \n",
    "Пропуски обнаружены в столбце Tenure (сколько лет человек является клиентом банка), их мы заменили медианным значением.  \n",
    "Явных и скрытых дубликатов не обнаружено. \n",
    "Есть подозрительное значение кредитного рейтинга 850 - такое ощущение что все что выше было обрезано и приведено к 850.  \n",
    "Есть много клиентов с нулевым балансом на счете.  \n",
    "Доля ушедших клиентов в данных составляет примерно 20%."
   ]
  },
  {
   "cell_type": "markdown",
   "metadata": {},
   "source": [
    "## Исследование задачи"
   ]
  },
  {
   "cell_type": "markdown",
   "metadata": {},
   "source": [
    "Подготовим данные для обучения. Сначала преобразуем категориальные признаки в численные."
   ]
  },
  {
   "cell_type": "code",
   "execution_count": 17,
   "metadata": {},
   "outputs": [],
   "source": [
    "#data_ohe = pd.get_dummies(data, drop_first=True)"
   ]
  },
  {
   "cell_type": "markdown",
   "metadata": {},
   "source": [
    "Разделим данные на обучающаю, валидационную и тестовую выборки.  "
   ]
  },
  {
   "cell_type": "code",
   "execution_count": 18,
   "metadata": {},
   "outputs": [],
   "source": [
    "features = data.drop('Exited', axis=1)\n",
    "target = data['Exited']"
   ]
  },
  {
   "cell_type": "code",
   "execution_count": 19,
   "metadata": {},
   "outputs": [
    {
     "data": {
      "text/plain": [
       "(10000, 10)"
      ]
     },
     "execution_count": 19,
     "metadata": {},
     "output_type": "execute_result"
    }
   ],
   "source": [
    "features.shape"
   ]
  },
  {
   "cell_type": "code",
   "execution_count": 20,
   "metadata": {},
   "outputs": [
    {
     "data": {
      "text/plain": [
       "(10000,)"
      ]
     },
     "execution_count": 20,
     "metadata": {},
     "output_type": "execute_result"
    }
   ],
   "source": [
    "target.shape"
   ]
  },
  {
   "cell_type": "code",
   "execution_count": 21,
   "metadata": {},
   "outputs": [],
   "source": [
    "# отделяем тестовую выборку\n",
    "features_train_plus_valid, features_test, target_train_plus_valid, target_test = train_test_split(\n",
    "    features, target, test_size=0.2, stratify=target, random_state=8)"
   ]
  },
  {
   "cell_type": "code",
   "execution_count": 22,
   "metadata": {},
   "outputs": [
    {
     "data": {
      "text/plain": [
       "(8000, 10)"
      ]
     },
     "execution_count": 22,
     "metadata": {},
     "output_type": "execute_result"
    }
   ],
   "source": [
    "features_train_plus_valid.shape"
   ]
  },
  {
   "cell_type": "code",
   "execution_count": 23,
   "metadata": {},
   "outputs": [
    {
     "data": {
      "text/plain": [
       "(8000,)"
      ]
     },
     "execution_count": 23,
     "metadata": {},
     "output_type": "execute_result"
    }
   ],
   "source": [
    "target_train_plus_valid.shape"
   ]
  },
  {
   "cell_type": "code",
   "execution_count": 24,
   "metadata": {},
   "outputs": [],
   "source": [
    "# оставшиеся данные делим на обучающую и валидационную выборки\n",
    "features_train, features_valid, target_train, target_valid = train_test_split(\n",
    "    features_train_plus_valid, target_train_plus_valid, test_size=0.25, stratify=target_train_plus_valid,\n",
    "    random_state=8)"
   ]
  },
  {
   "cell_type": "code",
   "execution_count": 25,
   "metadata": {},
   "outputs": [
    {
     "data": {
      "text/plain": [
       "'Тренировочная:'"
      ]
     },
     "metadata": {},
     "output_type": "display_data"
    },
    {
     "data": {
      "text/plain": [
       "(6000, 10)"
      ]
     },
     "metadata": {},
     "output_type": "display_data"
    },
    {
     "data": {
      "text/plain": [
       "'Валидационная:'"
      ]
     },
     "metadata": {},
     "output_type": "display_data"
    },
    {
     "data": {
      "text/plain": [
       "(2000, 10)"
      ]
     },
     "metadata": {},
     "output_type": "display_data"
    },
    {
     "data": {
      "text/plain": [
       "'Тестовая:'"
      ]
     },
     "metadata": {},
     "output_type": "display_data"
    },
    {
     "data": {
      "text/plain": [
       "(2000, 10)"
      ]
     },
     "metadata": {},
     "output_type": "display_data"
    }
   ],
   "source": [
    "# код ревьюера\n",
    "display('Тренировочная:', features_train.shape)\n",
    "display('Валидационная:', features_valid.shape)\n",
    "display('Тестовая:', features_test.shape)\n",
    "\n"
   ]
  },
  {
   "cell_type": "code",
   "execution_count": 26,
   "metadata": {},
   "outputs": [
    {
     "data": {
      "text/plain": [
       "0    0.8\n",
       "1    0.2\n",
       "Name: Exited, dtype: float64"
      ]
     },
     "execution_count": 26,
     "metadata": {},
     "output_type": "execute_result"
    }
   ],
   "source": [
    "data['Exited'].value_counts(normalize=True)"
   ]
  },
  {
   "cell_type": "markdown",
   "metadata": {},
   "source": [
    "Как уже было сказано, ушедшие клиенты составляют 20% выборки. Лояльных гораздо больше - 80%. То есть, классы в выборке несбалансированы. "
   ]
  },
  {
   "cell_type": "markdown",
   "metadata": {},
   "source": [
    "Сначала попробуем обучить модель без учета дисбаланса.   \n",
    "Рассмотрим логистическую регрессию и модель случайного леса.   "
   ]
  },
  {
   "cell_type": "markdown",
   "metadata": {},
   "source": [
    "Будем использовать OHE кодирование категориальных признаков и StandardScaler для численных признаков.  "
   ]
  },
  {
   "cell_type": "code",
   "execution_count": 27,
   "metadata": {},
   "outputs": [
    {
     "name": "stdout",
     "output_type": "stream",
     "text": [
      "Категориальные признаки:  ['Geography', 'Gender']\n",
      "Числовые признаки:  ['CreditScore', 'Age', 'Tenure', 'Balance', 'NumOfProducts', 'EstimatedSalary']\n"
     ]
    }
   ],
   "source": [
    "# составляем списки категориальных и числовых признаков\n",
    "ohe_features = features_train.select_dtypes(include='object').columns.to_list()\n",
    "print(\"Категориальные признаки: \", ohe_features)\n",
    "\n",
    "num_features = features_train.select_dtypes(exclude='object').columns.to_list()\n",
    "\n",
    "# исключаем из числовых категориальные бинарные признаки\n",
    "num_features.remove('HasCrCard')\n",
    "num_features.remove('IsActiveMember')\n",
    "print(\"Числовые признаки: \", num_features)"
   ]
  },
  {
   "cell_type": "code",
   "execution_count": 28,
   "metadata": {},
   "outputs": [],
   "source": [
    "# кодируем категориальные признаки\n",
    "encoder_ohe = OneHotEncoder(drop='first', handle_unknown='ignore', sparse=False) "
   ]
  },
  {
   "cell_type": "code",
   "execution_count": 29,
   "metadata": {},
   "outputs": [
    {
     "data": {
      "text/html": [
       "<style>#sk-container-id-1 {color: black;background-color: white;}#sk-container-id-1 pre{padding: 0;}#sk-container-id-1 div.sk-toggleable {background-color: white;}#sk-container-id-1 label.sk-toggleable__label {cursor: pointer;display: block;width: 100%;margin-bottom: 0;padding: 0.3em;box-sizing: border-box;text-align: center;}#sk-container-id-1 label.sk-toggleable__label-arrow:before {content: \"▸\";float: left;margin-right: 0.25em;color: #696969;}#sk-container-id-1 label.sk-toggleable__label-arrow:hover:before {color: black;}#sk-container-id-1 div.sk-estimator:hover label.sk-toggleable__label-arrow:before {color: black;}#sk-container-id-1 div.sk-toggleable__content {max-height: 0;max-width: 0;overflow: hidden;text-align: left;background-color: #f0f8ff;}#sk-container-id-1 div.sk-toggleable__content pre {margin: 0.2em;color: black;border-radius: 0.25em;background-color: #f0f8ff;}#sk-container-id-1 input.sk-toggleable__control:checked~div.sk-toggleable__content {max-height: 200px;max-width: 100%;overflow: auto;}#sk-container-id-1 input.sk-toggleable__control:checked~label.sk-toggleable__label-arrow:before {content: \"▾\";}#sk-container-id-1 div.sk-estimator input.sk-toggleable__control:checked~label.sk-toggleable__label {background-color: #d4ebff;}#sk-container-id-1 div.sk-label input.sk-toggleable__control:checked~label.sk-toggleable__label {background-color: #d4ebff;}#sk-container-id-1 input.sk-hidden--visually {border: 0;clip: rect(1px 1px 1px 1px);clip: rect(1px, 1px, 1px, 1px);height: 1px;margin: -1px;overflow: hidden;padding: 0;position: absolute;width: 1px;}#sk-container-id-1 div.sk-estimator {font-family: monospace;background-color: #f0f8ff;border: 1px dotted black;border-radius: 0.25em;box-sizing: border-box;margin-bottom: 0.5em;}#sk-container-id-1 div.sk-estimator:hover {background-color: #d4ebff;}#sk-container-id-1 div.sk-parallel-item::after {content: \"\";width: 100%;border-bottom: 1px solid gray;flex-grow: 1;}#sk-container-id-1 div.sk-label:hover label.sk-toggleable__label {background-color: #d4ebff;}#sk-container-id-1 div.sk-serial::before {content: \"\";position: absolute;border-left: 1px solid gray;box-sizing: border-box;top: 0;bottom: 0;left: 50%;z-index: 0;}#sk-container-id-1 div.sk-serial {display: flex;flex-direction: column;align-items: center;background-color: white;padding-right: 0.2em;padding-left: 0.2em;position: relative;}#sk-container-id-1 div.sk-item {position: relative;z-index: 1;}#sk-container-id-1 div.sk-parallel {display: flex;align-items: stretch;justify-content: center;background-color: white;position: relative;}#sk-container-id-1 div.sk-item::before, #sk-container-id-1 div.sk-parallel-item::before {content: \"\";position: absolute;border-left: 1px solid gray;box-sizing: border-box;top: 0;bottom: 0;left: 50%;z-index: -1;}#sk-container-id-1 div.sk-parallel-item {display: flex;flex-direction: column;z-index: 1;position: relative;background-color: white;}#sk-container-id-1 div.sk-parallel-item:first-child::after {align-self: flex-end;width: 50%;}#sk-container-id-1 div.sk-parallel-item:last-child::after {align-self: flex-start;width: 50%;}#sk-container-id-1 div.sk-parallel-item:only-child::after {width: 0;}#sk-container-id-1 div.sk-dashed-wrapped {border: 1px dashed gray;margin: 0 0.4em 0.5em 0.4em;box-sizing: border-box;padding-bottom: 0.4em;background-color: white;}#sk-container-id-1 div.sk-label label {font-family: monospace;font-weight: bold;display: inline-block;line-height: 1.2em;}#sk-container-id-1 div.sk-label-container {text-align: center;}#sk-container-id-1 div.sk-container {/* jupyter's `normalize.less` sets `[hidden] { display: none; }` but bootstrap.min.css set `[hidden] { display: none !important; }` so we also need the `!important` here to be able to override the default hidden behavior on the sphinx rendered scikit-learn.org. See: https://github.com/scikit-learn/scikit-learn/issues/21755 */display: inline-block !important;position: relative;}#sk-container-id-1 div.sk-text-repr-fallback {display: none;}</style><div id=\"sk-container-id-1\" class=\"sk-top-container\"><div class=\"sk-text-repr-fallback\"><pre>OneHotEncoder(drop=&#x27;first&#x27;, handle_unknown=&#x27;ignore&#x27;, sparse=False)</pre><b>In a Jupyter environment, please rerun this cell to show the HTML representation or trust the notebook. <br />On GitHub, the HTML representation is unable to render, please try loading this page with nbviewer.org.</b></div><div class=\"sk-container\" hidden><div class=\"sk-item\"><div class=\"sk-estimator sk-toggleable\"><input class=\"sk-toggleable__control sk-hidden--visually\" id=\"sk-estimator-id-1\" type=\"checkbox\" checked><label for=\"sk-estimator-id-1\" class=\"sk-toggleable__label sk-toggleable__label-arrow\">OneHotEncoder</label><div class=\"sk-toggleable__content\"><pre>OneHotEncoder(drop=&#x27;first&#x27;, handle_unknown=&#x27;ignore&#x27;, sparse=False)</pre></div></div></div></div></div>"
      ],
      "text/plain": [
       "OneHotEncoder(drop='first', handle_unknown='ignore', sparse=False)"
      ]
     },
     "execution_count": 29,
     "metadata": {},
     "output_type": "execute_result"
    }
   ],
   "source": [
    "encoder_ohe.fit(features_train[ohe_features])"
   ]
  },
  {
   "cell_type": "code",
   "execution_count": 30,
   "metadata": {},
   "outputs": [],
   "source": [
    "features_train[encoder_ohe.get_feature_names_out()] = encoder_ohe.transform(features_train[ohe_features])\n",
    "\n",
    "features_train = features_train.drop(ohe_features, axis=1)"
   ]
  },
  {
   "cell_type": "code",
   "execution_count": 31,
   "metadata": {},
   "outputs": [],
   "source": [
    "# масштабируем числовые признаки\n",
    "scaler = StandardScaler()"
   ]
  },
  {
   "cell_type": "code",
   "execution_count": 32,
   "metadata": {},
   "outputs": [],
   "source": [
    "features_train[num_features] = scaler.fit_transform(features_train[num_features])"
   ]
  },
  {
   "cell_type": "code",
   "execution_count": 33,
   "metadata": {},
   "outputs": [
    {
     "data": {
      "text/html": [
       "<div>\n",
       "<style scoped>\n",
       "    .dataframe tbody tr th:only-of-type {\n",
       "        vertical-align: middle;\n",
       "    }\n",
       "\n",
       "    .dataframe tbody tr th {\n",
       "        vertical-align: top;\n",
       "    }\n",
       "\n",
       "    .dataframe thead th {\n",
       "        text-align: right;\n",
       "    }\n",
       "</style>\n",
       "<table border=\"1\" class=\"dataframe\">\n",
       "  <thead>\n",
       "    <tr style=\"text-align: right;\">\n",
       "      <th></th>\n",
       "      <th>CreditScore</th>\n",
       "      <th>Age</th>\n",
       "      <th>Tenure</th>\n",
       "      <th>Balance</th>\n",
       "      <th>NumOfProducts</th>\n",
       "      <th>HasCrCard</th>\n",
       "      <th>IsActiveMember</th>\n",
       "      <th>EstimatedSalary</th>\n",
       "      <th>Geography_Germany</th>\n",
       "      <th>Geography_Spain</th>\n",
       "      <th>Gender_Male</th>\n",
       "    </tr>\n",
       "  </thead>\n",
       "  <tbody>\n",
       "    <tr>\n",
       "      <th>5817</th>\n",
       "      <td>-0.40</td>\n",
       "      <td>2.88</td>\n",
       "      <td>1.44</td>\n",
       "      <td>0.04</td>\n",
       "      <td>-0.91</td>\n",
       "      <td>0</td>\n",
       "      <td>1</td>\n",
       "      <td>-1.59</td>\n",
       "      <td>1.0</td>\n",
       "      <td>0.0</td>\n",
       "      <td>1.0</td>\n",
       "    </tr>\n",
       "    <tr>\n",
       "      <th>5328</th>\n",
       "      <td>0.16</td>\n",
       "      <td>-1.13</td>\n",
       "      <td>-1.08</td>\n",
       "      <td>0.99</td>\n",
       "      <td>-0.91</td>\n",
       "      <td>1</td>\n",
       "      <td>0</td>\n",
       "      <td>1.15</td>\n",
       "      <td>1.0</td>\n",
       "      <td>0.0</td>\n",
       "      <td>1.0</td>\n",
       "    </tr>\n",
       "    <tr>\n",
       "      <th>9584</th>\n",
       "      <td>-0.92</td>\n",
       "      <td>0.20</td>\n",
       "      <td>-1.08</td>\n",
       "      <td>0.39</td>\n",
       "      <td>-0.91</td>\n",
       "      <td>1</td>\n",
       "      <td>1</td>\n",
       "      <td>-1.41</td>\n",
       "      <td>1.0</td>\n",
       "      <td>0.0</td>\n",
       "      <td>1.0</td>\n",
       "    </tr>\n",
       "    <tr>\n",
       "      <th>8386</th>\n",
       "      <td>0.59</td>\n",
       "      <td>0.20</td>\n",
       "      <td>-1.81</td>\n",
       "      <td>-1.22</td>\n",
       "      <td>-0.91</td>\n",
       "      <td>1</td>\n",
       "      <td>0</td>\n",
       "      <td>0.49</td>\n",
       "      <td>0.0</td>\n",
       "      <td>0.0</td>\n",
       "      <td>1.0</td>\n",
       "    </tr>\n",
       "    <tr>\n",
       "      <th>3420</th>\n",
       "      <td>0.30</td>\n",
       "      <td>-0.75</td>\n",
       "      <td>-1.44</td>\n",
       "      <td>-1.22</td>\n",
       "      <td>0.79</td>\n",
       "      <td>1</td>\n",
       "      <td>1</td>\n",
       "      <td>-1.69</td>\n",
       "      <td>0.0</td>\n",
       "      <td>0.0</td>\n",
       "      <td>1.0</td>\n",
       "    </tr>\n",
       "  </tbody>\n",
       "</table>\n",
       "</div>"
      ],
      "text/plain": [
       "      CreditScore   Age  Tenure  Balance  NumOfProducts  HasCrCard  \\\n",
       "5817        -0.40  2.88    1.44     0.04          -0.91          0   \n",
       "5328         0.16 -1.13   -1.08     0.99          -0.91          1   \n",
       "9584        -0.92  0.20   -1.08     0.39          -0.91          1   \n",
       "8386         0.59  0.20   -1.81    -1.22          -0.91          1   \n",
       "3420         0.30 -0.75   -1.44    -1.22           0.79          1   \n",
       "\n",
       "      IsActiveMember  EstimatedSalary  Geography_Germany  Geography_Spain  \\\n",
       "5817               1            -1.59                1.0              0.0   \n",
       "5328               0             1.15                1.0              0.0   \n",
       "9584               1            -1.41                1.0              0.0   \n",
       "8386               0             0.49                0.0              0.0   \n",
       "3420               1            -1.69                0.0              0.0   \n",
       "\n",
       "      Gender_Male  \n",
       "5817          1.0  \n",
       "5328          1.0  \n",
       "9584          1.0  \n",
       "8386          1.0  \n",
       "3420          1.0  "
      ]
     },
     "execution_count": 33,
     "metadata": {},
     "output_type": "execute_result"
    }
   ],
   "source": [
    "features_train.sample(5)"
   ]
  },
  {
   "cell_type": "code",
   "execution_count": 34,
   "metadata": {},
   "outputs": [],
   "source": [
    "# трансформируем валидационную выборку\n",
    "features_valid[encoder_ohe.get_feature_names_out()] =  encoder_ohe.transform(\n",
    "    features_valid[ohe_features])\n",
    "features_valid = features_valid.drop(ohe_features, axis=1)\n",
    "\n",
    "features_valid[num_features] = scaler.transform(features_valid[num_features])"
   ]
  },
  {
   "cell_type": "markdown",
   "metadata": {},
   "source": [
    "### Логистическая регрессия"
   ]
  },
  {
   "cell_type": "code",
   "execution_count": 35,
   "metadata": {},
   "outputs": [],
   "source": [
    "lr_model = LogisticRegression(random_state=8, solver='liblinear')"
   ]
  },
  {
   "cell_type": "code",
   "execution_count": 36,
   "metadata": {},
   "outputs": [
    {
     "data": {
      "text/html": [
       "<style>#sk-container-id-2 {color: black;background-color: white;}#sk-container-id-2 pre{padding: 0;}#sk-container-id-2 div.sk-toggleable {background-color: white;}#sk-container-id-2 label.sk-toggleable__label {cursor: pointer;display: block;width: 100%;margin-bottom: 0;padding: 0.3em;box-sizing: border-box;text-align: center;}#sk-container-id-2 label.sk-toggleable__label-arrow:before {content: \"▸\";float: left;margin-right: 0.25em;color: #696969;}#sk-container-id-2 label.sk-toggleable__label-arrow:hover:before {color: black;}#sk-container-id-2 div.sk-estimator:hover label.sk-toggleable__label-arrow:before {color: black;}#sk-container-id-2 div.sk-toggleable__content {max-height: 0;max-width: 0;overflow: hidden;text-align: left;background-color: #f0f8ff;}#sk-container-id-2 div.sk-toggleable__content pre {margin: 0.2em;color: black;border-radius: 0.25em;background-color: #f0f8ff;}#sk-container-id-2 input.sk-toggleable__control:checked~div.sk-toggleable__content {max-height: 200px;max-width: 100%;overflow: auto;}#sk-container-id-2 input.sk-toggleable__control:checked~label.sk-toggleable__label-arrow:before {content: \"▾\";}#sk-container-id-2 div.sk-estimator input.sk-toggleable__control:checked~label.sk-toggleable__label {background-color: #d4ebff;}#sk-container-id-2 div.sk-label input.sk-toggleable__control:checked~label.sk-toggleable__label {background-color: #d4ebff;}#sk-container-id-2 input.sk-hidden--visually {border: 0;clip: rect(1px 1px 1px 1px);clip: rect(1px, 1px, 1px, 1px);height: 1px;margin: -1px;overflow: hidden;padding: 0;position: absolute;width: 1px;}#sk-container-id-2 div.sk-estimator {font-family: monospace;background-color: #f0f8ff;border: 1px dotted black;border-radius: 0.25em;box-sizing: border-box;margin-bottom: 0.5em;}#sk-container-id-2 div.sk-estimator:hover {background-color: #d4ebff;}#sk-container-id-2 div.sk-parallel-item::after {content: \"\";width: 100%;border-bottom: 1px solid gray;flex-grow: 1;}#sk-container-id-2 div.sk-label:hover label.sk-toggleable__label {background-color: #d4ebff;}#sk-container-id-2 div.sk-serial::before {content: \"\";position: absolute;border-left: 1px solid gray;box-sizing: border-box;top: 0;bottom: 0;left: 50%;z-index: 0;}#sk-container-id-2 div.sk-serial {display: flex;flex-direction: column;align-items: center;background-color: white;padding-right: 0.2em;padding-left: 0.2em;position: relative;}#sk-container-id-2 div.sk-item {position: relative;z-index: 1;}#sk-container-id-2 div.sk-parallel {display: flex;align-items: stretch;justify-content: center;background-color: white;position: relative;}#sk-container-id-2 div.sk-item::before, #sk-container-id-2 div.sk-parallel-item::before {content: \"\";position: absolute;border-left: 1px solid gray;box-sizing: border-box;top: 0;bottom: 0;left: 50%;z-index: -1;}#sk-container-id-2 div.sk-parallel-item {display: flex;flex-direction: column;z-index: 1;position: relative;background-color: white;}#sk-container-id-2 div.sk-parallel-item:first-child::after {align-self: flex-end;width: 50%;}#sk-container-id-2 div.sk-parallel-item:last-child::after {align-self: flex-start;width: 50%;}#sk-container-id-2 div.sk-parallel-item:only-child::after {width: 0;}#sk-container-id-2 div.sk-dashed-wrapped {border: 1px dashed gray;margin: 0 0.4em 0.5em 0.4em;box-sizing: border-box;padding-bottom: 0.4em;background-color: white;}#sk-container-id-2 div.sk-label label {font-family: monospace;font-weight: bold;display: inline-block;line-height: 1.2em;}#sk-container-id-2 div.sk-label-container {text-align: center;}#sk-container-id-2 div.sk-container {/* jupyter's `normalize.less` sets `[hidden] { display: none; }` but bootstrap.min.css set `[hidden] { display: none !important; }` so we also need the `!important` here to be able to override the default hidden behavior on the sphinx rendered scikit-learn.org. See: https://github.com/scikit-learn/scikit-learn/issues/21755 */display: inline-block !important;position: relative;}#sk-container-id-2 div.sk-text-repr-fallback {display: none;}</style><div id=\"sk-container-id-2\" class=\"sk-top-container\"><div class=\"sk-text-repr-fallback\"><pre>LogisticRegression(random_state=8, solver=&#x27;liblinear&#x27;)</pre><b>In a Jupyter environment, please rerun this cell to show the HTML representation or trust the notebook. <br />On GitHub, the HTML representation is unable to render, please try loading this page with nbviewer.org.</b></div><div class=\"sk-container\" hidden><div class=\"sk-item\"><div class=\"sk-estimator sk-toggleable\"><input class=\"sk-toggleable__control sk-hidden--visually\" id=\"sk-estimator-id-2\" type=\"checkbox\" checked><label for=\"sk-estimator-id-2\" class=\"sk-toggleable__label sk-toggleable__label-arrow\">LogisticRegression</label><div class=\"sk-toggleable__content\"><pre>LogisticRegression(random_state=8, solver=&#x27;liblinear&#x27;)</pre></div></div></div></div></div>"
      ],
      "text/plain": [
       "LogisticRegression(random_state=8, solver='liblinear')"
      ]
     },
     "execution_count": 36,
     "metadata": {},
     "output_type": "execute_result"
    }
   ],
   "source": [
    "lr_model.fit(features_train, target_train)"
   ]
  },
  {
   "cell_type": "code",
   "execution_count": 37,
   "metadata": {},
   "outputs": [],
   "source": [
    "predictions_valid_lr = lr_model.predict(features_valid)"
   ]
  },
  {
   "cell_type": "code",
   "execution_count": 38,
   "metadata": {},
   "outputs": [],
   "source": [
    "f1_lr = f1_score(target_valid, predictions_valid_lr)"
   ]
  },
  {
   "cell_type": "code",
   "execution_count": 39,
   "metadata": {},
   "outputs": [
    {
     "name": "stdout",
     "output_type": "stream",
     "text": [
      "Значение f1-меры для логистической регрессии без учета дисбаланса классов: 0.33\n"
     ]
    }
   ],
   "source": [
    "print(\"Значение f1-меры для логистической регрессии без учета дисбаланса классов: {:.2f}\".format(f1_lr))"
   ]
  },
  {
   "cell_type": "code",
   "execution_count": 40,
   "metadata": {},
   "outputs": [
    {
     "name": "stdout",
     "output_type": "stream",
     "text": [
      "Значение площади под roc-кривой для логистической регрессии без учета дисбаланса классов: 0.77\n"
     ]
    }
   ],
   "source": [
    "probabilities_valid_lr = lr_model.predict_proba(features_valid)\n",
    "\n",
    "roc_auc_lr = roc_auc_score(target_valid, probabilities_valid_lr[:, 1]) \n",
    "\n",
    "print(\"Значение площади под roc-кривой для логистической регрессии без учета дисбаланса классов: {:.2f}\".format(roc_auc_lr))"
   ]
  },
  {
   "cell_type": "markdown",
   "metadata": {},
   "source": [
    "При использовании модели логистической регрессии без учета дисбаланса классов мы получили значение f1-меры 0.33, что почти в два раза ниже целевого минимального значения 0.59. Значение площади под roc-кривой 0.77 значительно выше этого показателя у случайной модели (0.5)."
   ]
  },
  {
   "cell_type": "markdown",
   "metadata": {},
   "source": [
    "### Случайный лес"
   ]
  },
  {
   "cell_type": "markdown",
   "metadata": {},
   "source": [
    "Для модели случайного леса подберем гмперпараметры: максимальную глубину и количество деревьев."
   ]
  },
  {
   "cell_type": "code",
   "execution_count": 41,
   "metadata": {},
   "outputs": [],
   "source": [
    "best_model = None\n",
    "best_score = 0\n",
    "best_max_depth = 0\n",
    "best_n_est = 0"
   ]
  },
  {
   "cell_type": "code",
   "execution_count": 42,
   "metadata": {},
   "outputs": [],
   "source": [
    "for n_est in range(10, 101, 10):\n",
    "    for depth in range(1,32,2):\n",
    "        model = RandomForestClassifier(max_depth=depth, n_estimators=n_est, random_state=8)\n",
    "        model.fit(features_train, target_train)\n",
    "        preds = model.predict(features_valid)\n",
    "        score = f1_score(target_valid, preds)\n",
    "        if score>best_score:\n",
    "            best_model = model\n",
    "            best_score = score\n",
    "            best_max_depth = depth\n",
    "            best_n_est = n_est"
   ]
  },
  {
   "cell_type": "code",
   "execution_count": 43,
   "metadata": {},
   "outputs": [
    {
     "name": "stdout",
     "output_type": "stream",
     "text": [
      "Лучшие гиперпараметры: количество деревьев 20 и максимальная глубина 11\n"
     ]
    }
   ],
   "source": [
    "print(\"Лучшие гиперпараметры: количество деревьев {} и максимальная глубина {}\".format(best_n_est, best_max_depth))"
   ]
  },
  {
   "cell_type": "code",
   "execution_count": 44,
   "metadata": {},
   "outputs": [],
   "source": [
    "f1_rf = best_score"
   ]
  },
  {
   "cell_type": "code",
   "execution_count": 45,
   "metadata": {},
   "outputs": [
    {
     "name": "stdout",
     "output_type": "stream",
     "text": [
      "Значение f1-меры для выбранной модели: 0.59\n"
     ]
    }
   ],
   "source": [
    "print(\"Значение f1-меры для выбранной модели: {:.2f}\".format(best_score))"
   ]
  },
  {
   "cell_type": "markdown",
   "metadata": {},
   "source": [
    "Используя модель случайного леса, мы добились целевого значения f1-меры 0.59. Посмотирм, как изменилось значение площади под roc-кривой."
   ]
  },
  {
   "cell_type": "code",
   "execution_count": 46,
   "metadata": {},
   "outputs": [],
   "source": [
    "probabilities_valid_rf = best_model.predict_proba(features_valid)"
   ]
  },
  {
   "cell_type": "code",
   "execution_count": 47,
   "metadata": {},
   "outputs": [],
   "source": [
    "roc_auc_rf = roc_auc_score(target_valid, probabilities_valid_rf[:, 1]) "
   ]
  },
  {
   "cell_type": "code",
   "execution_count": 48,
   "metadata": {},
   "outputs": [
    {
     "name": "stdout",
     "output_type": "stream",
     "text": [
      "Значение площади под roc-кривой для случайного леса без учета дисбаланса классов: 0.85\n"
     ]
    }
   ],
   "source": [
    "print(\"Значение площади под roc-кривой для случайного леса без учета дисбаланса классов: {:.2f}\".format(roc_auc_rf))"
   ]
  },
  {
   "cell_type": "code",
   "execution_count": 49,
   "metadata": {},
   "outputs": [
    {
     "name": "stdout",
     "output_type": "stream",
     "text": [
      "Значение roc-auc увеличилось по сравнению с логистической регрессией на 10.52%\n"
     ]
    }
   ],
   "source": [
    "print(\"Значение roc-auc увеличилось по сравнению с логистической регрессией на {:.2%}\".format(roc_auc_rf/roc_auc_lr-1))"
   ]
  },
  {
   "cell_type": "markdown",
   "metadata": {},
   "source": [
    "Без учета дисбаланса классов лучшие показатели получились у случайного леса."
   ]
  },
  {
   "cell_type": "markdown",
   "metadata": {},
   "source": [
    "## Борьба с дисбалансом"
   ]
  },
  {
   "cell_type": "markdown",
   "metadata": {},
   "source": [
    "### Использование аргумента class weight"
   ]
  },
  {
   "cell_type": "markdown",
   "metadata": {},
   "source": [
    "Поскольку мы используем алгоритм RandomForest, для борьбы с дисбалансом можно воспользоваться аргументом class_weight. Подберем гиперпараметры с учетом данного аргумента."
   ]
  },
  {
   "cell_type": "code",
   "execution_count": 50,
   "metadata": {},
   "outputs": [],
   "source": [
    "best_model = None\n",
    "best_score = 0\n",
    "best_max_depth = 0\n",
    "best_n_est = 0"
   ]
  },
  {
   "cell_type": "code",
   "execution_count": 51,
   "metadata": {},
   "outputs": [],
   "source": [
    "for n_est in range(10, 201, 10):\n",
    "    for depth in range(1,16,2):\n",
    "        model = RandomForestClassifier(max_depth=depth, n_estimators=n_est, class_weight='balanced', random_state=8)\n",
    "        model.fit(features_train, target_train)\n",
    "        preds = model.predict(features_valid)\n",
    "        score = f1_score(target_valid, preds)\n",
    "        if score>best_score:\n",
    "            best_model = model\n",
    "            best_score = score\n",
    "            best_max_depth = depth\n",
    "            best_n_est = n_est"
   ]
  },
  {
   "cell_type": "code",
   "execution_count": 52,
   "metadata": {},
   "outputs": [
    {
     "name": "stdout",
     "output_type": "stream",
     "text": [
      "Лучшие гиперпараметры: количество деревьев 200 и максимальная глубина 9\n"
     ]
    }
   ],
   "source": [
    "print(\"Лучшие гиперпараметры: количество деревьев {} и максимальная глубина {}\".format(best_n_est, best_max_depth))"
   ]
  },
  {
   "cell_type": "code",
   "execution_count": 53,
   "metadata": {},
   "outputs": [],
   "source": [
    "f1_rf_balanced1 = best_score"
   ]
  },
  {
   "cell_type": "code",
   "execution_count": 54,
   "metadata": {},
   "outputs": [
    {
     "name": "stdout",
     "output_type": "stream",
     "text": [
      "Значение f1-меры для выбранной модели: 0.64\n"
     ]
    }
   ],
   "source": [
    "print(\"Значение f1-меры для выбранной модели: {:.2f}\".format(f1_rf_balanced1))"
   ]
  },
  {
   "cell_type": "code",
   "execution_count": 55,
   "metadata": {},
   "outputs": [
    {
     "name": "stdout",
     "output_type": "stream",
     "text": [
      "Значение площади под roc-кривой для случайного леса без учета дисбаланса классов: 0.86\n"
     ]
    }
   ],
   "source": [
    "probabilities_valid_rfb1 = best_model.predict_proba(features_valid)\n",
    "roc_auc_rf_balanced1 = roc_auc_score(target_valid, probabilities_valid_rfb1[:, 1]) \n",
    "print(\"Значение площади под roc-кривой для случайного леса без учета дисбаланса классов: {:.2f}\".format(roc_auc_rf_balanced1))"
   ]
  },
  {
   "cell_type": "markdown",
   "metadata": {},
   "source": [
    "Качество случайного леса еще немного подрасло."
   ]
  },
  {
   "cell_type": "code",
   "execution_count": 56,
   "metadata": {},
   "outputs": [
    {
     "name": "stdout",
     "output_type": "stream",
     "text": [
      "f1-мера при учете дисбаланса классов с помощью аргумента class_weight выросла на 8.07%, roc-auc - на 1.19%\n"
     ]
    }
   ],
   "source": [
    "print(\"f1-мера при учете дисбаланса классов с помощью аргумента class_weight выросла на {:.2%}, roc-auc - на {:.2%}\".format(\n",
    "f1_rf_balanced1/f1_rf-1, roc_auc_rf_balanced1/roc_auc_rf-1))"
   ]
  },
  {
   "cell_type": "markdown",
   "metadata": {},
   "source": [
    "### Увеличение числа объектов редкого класса"
   ]
  },
  {
   "cell_type": "markdown",
   "metadata": {},
   "source": [
    "Поскольку данных довольно мало, будем использовать метод увеличения выборки - увеличим число объектов редкого класса."
   ]
  },
  {
   "cell_type": "code",
   "execution_count": 57,
   "metadata": {},
   "outputs": [],
   "source": [
    "features_zeros = features_train[target_train==0]\n",
    "features_ones = features_train[target_train==1]\n",
    "target_zeros = target_train[target_train==0]\n",
    "target_ones = target_train[target_train==1]\n",
    "\n",
    "features_train_upsampled = pd.concat([features_zeros] + [features_ones]*4)\n",
    "target_train_upsampled = pd.concat([target_zeros] + [target_ones]*4)\n",
    "\n",
    "features_train_upsampled, target_train_upsampled = shuffle(features_train_upsampled,\n",
    "                                                            target_train_upsampled, random_state=8)"
   ]
  },
  {
   "cell_type": "code",
   "execution_count": 58,
   "metadata": {},
   "outputs": [
    {
     "data": {
      "text/plain": [
       "1    0.51\n",
       "0    0.49\n",
       "Name: Exited, dtype: float64"
      ]
     },
     "execution_count": 58,
     "metadata": {},
     "output_type": "execute_result"
    }
   ],
   "source": [
    "# проверяем, как теперь соотносятся классы\n",
    "target_train_upsampled.value_counts(normalize=True)"
   ]
  },
  {
   "cell_type": "markdown",
   "metadata": {},
   "source": [
    "Посмотрим, что будет с качеством логистической регрессии."
   ]
  },
  {
   "cell_type": "code",
   "execution_count": 59,
   "metadata": {},
   "outputs": [
    {
     "data": {
      "text/html": [
       "<style>#sk-container-id-3 {color: black;background-color: white;}#sk-container-id-3 pre{padding: 0;}#sk-container-id-3 div.sk-toggleable {background-color: white;}#sk-container-id-3 label.sk-toggleable__label {cursor: pointer;display: block;width: 100%;margin-bottom: 0;padding: 0.3em;box-sizing: border-box;text-align: center;}#sk-container-id-3 label.sk-toggleable__label-arrow:before {content: \"▸\";float: left;margin-right: 0.25em;color: #696969;}#sk-container-id-3 label.sk-toggleable__label-arrow:hover:before {color: black;}#sk-container-id-3 div.sk-estimator:hover label.sk-toggleable__label-arrow:before {color: black;}#sk-container-id-3 div.sk-toggleable__content {max-height: 0;max-width: 0;overflow: hidden;text-align: left;background-color: #f0f8ff;}#sk-container-id-3 div.sk-toggleable__content pre {margin: 0.2em;color: black;border-radius: 0.25em;background-color: #f0f8ff;}#sk-container-id-3 input.sk-toggleable__control:checked~div.sk-toggleable__content {max-height: 200px;max-width: 100%;overflow: auto;}#sk-container-id-3 input.sk-toggleable__control:checked~label.sk-toggleable__label-arrow:before {content: \"▾\";}#sk-container-id-3 div.sk-estimator input.sk-toggleable__control:checked~label.sk-toggleable__label {background-color: #d4ebff;}#sk-container-id-3 div.sk-label input.sk-toggleable__control:checked~label.sk-toggleable__label {background-color: #d4ebff;}#sk-container-id-3 input.sk-hidden--visually {border: 0;clip: rect(1px 1px 1px 1px);clip: rect(1px, 1px, 1px, 1px);height: 1px;margin: -1px;overflow: hidden;padding: 0;position: absolute;width: 1px;}#sk-container-id-3 div.sk-estimator {font-family: monospace;background-color: #f0f8ff;border: 1px dotted black;border-radius: 0.25em;box-sizing: border-box;margin-bottom: 0.5em;}#sk-container-id-3 div.sk-estimator:hover {background-color: #d4ebff;}#sk-container-id-3 div.sk-parallel-item::after {content: \"\";width: 100%;border-bottom: 1px solid gray;flex-grow: 1;}#sk-container-id-3 div.sk-label:hover label.sk-toggleable__label {background-color: #d4ebff;}#sk-container-id-3 div.sk-serial::before {content: \"\";position: absolute;border-left: 1px solid gray;box-sizing: border-box;top: 0;bottom: 0;left: 50%;z-index: 0;}#sk-container-id-3 div.sk-serial {display: flex;flex-direction: column;align-items: center;background-color: white;padding-right: 0.2em;padding-left: 0.2em;position: relative;}#sk-container-id-3 div.sk-item {position: relative;z-index: 1;}#sk-container-id-3 div.sk-parallel {display: flex;align-items: stretch;justify-content: center;background-color: white;position: relative;}#sk-container-id-3 div.sk-item::before, #sk-container-id-3 div.sk-parallel-item::before {content: \"\";position: absolute;border-left: 1px solid gray;box-sizing: border-box;top: 0;bottom: 0;left: 50%;z-index: -1;}#sk-container-id-3 div.sk-parallel-item {display: flex;flex-direction: column;z-index: 1;position: relative;background-color: white;}#sk-container-id-3 div.sk-parallel-item:first-child::after {align-self: flex-end;width: 50%;}#sk-container-id-3 div.sk-parallel-item:last-child::after {align-self: flex-start;width: 50%;}#sk-container-id-3 div.sk-parallel-item:only-child::after {width: 0;}#sk-container-id-3 div.sk-dashed-wrapped {border: 1px dashed gray;margin: 0 0.4em 0.5em 0.4em;box-sizing: border-box;padding-bottom: 0.4em;background-color: white;}#sk-container-id-3 div.sk-label label {font-family: monospace;font-weight: bold;display: inline-block;line-height: 1.2em;}#sk-container-id-3 div.sk-label-container {text-align: center;}#sk-container-id-3 div.sk-container {/* jupyter's `normalize.less` sets `[hidden] { display: none; }` but bootstrap.min.css set `[hidden] { display: none !important; }` so we also need the `!important` here to be able to override the default hidden behavior on the sphinx rendered scikit-learn.org. See: https://github.com/scikit-learn/scikit-learn/issues/21755 */display: inline-block !important;position: relative;}#sk-container-id-3 div.sk-text-repr-fallback {display: none;}</style><div id=\"sk-container-id-3\" class=\"sk-top-container\"><div class=\"sk-text-repr-fallback\"><pre>LogisticRegression(random_state=8, solver=&#x27;liblinear&#x27;)</pre><b>In a Jupyter environment, please rerun this cell to show the HTML representation or trust the notebook. <br />On GitHub, the HTML representation is unable to render, please try loading this page with nbviewer.org.</b></div><div class=\"sk-container\" hidden><div class=\"sk-item\"><div class=\"sk-estimator sk-toggleable\"><input class=\"sk-toggleable__control sk-hidden--visually\" id=\"sk-estimator-id-3\" type=\"checkbox\" checked><label for=\"sk-estimator-id-3\" class=\"sk-toggleable__label sk-toggleable__label-arrow\">LogisticRegression</label><div class=\"sk-toggleable__content\"><pre>LogisticRegression(random_state=8, solver=&#x27;liblinear&#x27;)</pre></div></div></div></div></div>"
      ],
      "text/plain": [
       "LogisticRegression(random_state=8, solver='liblinear')"
      ]
     },
     "execution_count": 59,
     "metadata": {},
     "output_type": "execute_result"
    }
   ],
   "source": [
    "lr_model.fit(features_train_upsampled, target_train_upsampled)"
   ]
  },
  {
   "cell_type": "code",
   "execution_count": 60,
   "metadata": {},
   "outputs": [],
   "source": [
    "lr_up_preds_valid = lr_model.predict(features_valid)"
   ]
  },
  {
   "cell_type": "code",
   "execution_count": 61,
   "metadata": {},
   "outputs": [],
   "source": [
    "f1_lr_up = f1_score(target_valid, lr_up_preds_valid)"
   ]
  },
  {
   "cell_type": "code",
   "execution_count": 62,
   "metadata": {},
   "outputs": [
    {
     "name": "stdout",
     "output_type": "stream",
     "text": [
      "Значение f1-меры для логистической регрессии c учетом дисбаланса классов: 0.50\n"
     ]
    }
   ],
   "source": [
    "print(\"Значение f1-меры для логистической регрессии c учетом дисбаланса классов: {:.2f}\".format(f1_lr_up))"
   ]
  },
  {
   "cell_type": "code",
   "execution_count": 63,
   "metadata": {},
   "outputs": [
    {
     "name": "stdout",
     "output_type": "stream",
     "text": [
      "Значение площади под roc-кривой для логистической регрессии с учетом дисбаланса классов: 0.78\n"
     ]
    }
   ],
   "source": [
    "probabilities_valid_lr_up = lr_model.predict_proba(features_valid)\n",
    "\n",
    "roc_auc_lr_up = roc_auc_score(target_valid, probabilities_valid_lr_up[:, 1]) \n",
    "\n",
    "print(\"Значение площади под roc-кривой для логистической регрессии с учетом дисбаланса классов: {:.2f}\".format(roc_auc_lr_up))"
   ]
  },
  {
   "cell_type": "markdown",
   "metadata": {},
   "source": [
    "Качество логистической регрессии вырасло, но все еще не дотягивает до целевого значения.  "
   ]
  },
  {
   "cell_type": "markdown",
   "metadata": {},
   "source": [
    "Подберем гиперпараметры для случайного леса после апсемплинга."
   ]
  },
  {
   "cell_type": "code",
   "execution_count": 64,
   "metadata": {},
   "outputs": [],
   "source": [
    "best_model = None\n",
    "best_score = 0\n",
    "best_max_depth = 0\n",
    "best_n_est = 0"
   ]
  },
  {
   "cell_type": "code",
   "execution_count": 65,
   "metadata": {},
   "outputs": [],
   "source": [
    "for n_est in range(10, 201, 10):\n",
    "    for depth in range(1,16,2):\n",
    "        model = RandomForestClassifier(max_depth=depth, n_estimators=n_est, random_state=8)\n",
    "        model.fit(features_train_upsampled, target_train_upsampled)\n",
    "        preds = model.predict(features_valid)\n",
    "        score = f1_score(target_valid, preds)\n",
    "        if score>best_score:\n",
    "            best_model = model\n",
    "            best_score = score\n",
    "            best_max_depth = depth\n",
    "            best_n_est = n_est"
   ]
  },
  {
   "cell_type": "code",
   "execution_count": 66,
   "metadata": {},
   "outputs": [
    {
     "name": "stdout",
     "output_type": "stream",
     "text": [
      "Лучшие гиперпараметры: количество деревьев 200 и максимальная глубина 13\n"
     ]
    }
   ],
   "source": [
    "print(\"Лучшие гиперпараметры: количество деревьев {} и максимальная глубина {}\".format(best_n_est, best_max_depth))\n"
   ]
  },
  {
   "cell_type": "code",
   "execution_count": 67,
   "metadata": {},
   "outputs": [],
   "source": [
    "f1_rf_balanced2 = best_score"
   ]
  },
  {
   "cell_type": "code",
   "execution_count": 68,
   "metadata": {},
   "outputs": [
    {
     "name": "stdout",
     "output_type": "stream",
     "text": [
      "Значение f1-меры для случайного леса с применением апсемплинга: 0.64\n"
     ]
    }
   ],
   "source": [
    "print(\"Значение f1-меры для случайного леса с применением апсемплинга: {:.2f}\".format(f1_rf_balanced2))"
   ]
  },
  {
   "cell_type": "code",
   "execution_count": 69,
   "metadata": {},
   "outputs": [
    {
     "name": "stdout",
     "output_type": "stream",
     "text": [
      "Значение площади под roc-кривой для случайного леса с применением апсемплинга: 0.86\n"
     ]
    }
   ],
   "source": [
    "probabilities_valid_rf = best_model.predict_proba(features_valid)\n",
    "roc_auc_rf_balanced2 = roc_auc_score(target_valid, probabilities_valid_rf[:, 1]) \n",
    "print(\"Значение площади под roc-кривой для случайного леса с применением апсемплинга: {:.2f}\".format(roc_auc_rf_balanced2))"
   ]
  },
  {
   "cell_type": "code",
   "execution_count": 70,
   "metadata": {},
   "outputs": [
    {
     "name": "stdout",
     "output_type": "stream",
     "text": [
      "Изменеине качества модели по сравнению с предыдущим методом борьбы с дисбалансом классов:\n",
      "f1: -0.62%\n",
      "roc-auc: -0.12%\n"
     ]
    }
   ],
   "source": [
    "print(\"Изменеине качества модели по сравнению с предыдущим методом борьбы с дисбалансом классов:\")\n",
    "print(\"f1: {:.2%}\".format(f1_rf_balanced2/f1_rf_balanced1-1))\n",
    "print(\"roc-auc: {:.2%}\".format(roc_auc_rf_balanced2/roc_auc_rf_balanced1-1))"
   ]
  },
  {
   "cell_type": "markdown",
   "metadata": {},
   "source": [
    "Качество получилось чуть меньше, чем при использовании встроенного аргумента class_weight, поэтому остановимся на нем."
   ]
  },
  {
   "cell_type": "markdown",
   "metadata": {},
   "source": [
    "## Тестирование модели"
   ]
  },
  {
   "cell_type": "markdown",
   "metadata": {},
   "source": [
    "Проверим качество модели на тестовой выборке.  \n",
    "Обучим модель на всех данных кроме тестовых (обучающая + валидационная выборка)."
   ]
  },
  {
   "cell_type": "code",
   "execution_count": 71,
   "metadata": {},
   "outputs": [
    {
     "data": {
      "text/html": [
       "<style>#sk-container-id-4 {color: black;background-color: white;}#sk-container-id-4 pre{padding: 0;}#sk-container-id-4 div.sk-toggleable {background-color: white;}#sk-container-id-4 label.sk-toggleable__label {cursor: pointer;display: block;width: 100%;margin-bottom: 0;padding: 0.3em;box-sizing: border-box;text-align: center;}#sk-container-id-4 label.sk-toggleable__label-arrow:before {content: \"▸\";float: left;margin-right: 0.25em;color: #696969;}#sk-container-id-4 label.sk-toggleable__label-arrow:hover:before {color: black;}#sk-container-id-4 div.sk-estimator:hover label.sk-toggleable__label-arrow:before {color: black;}#sk-container-id-4 div.sk-toggleable__content {max-height: 0;max-width: 0;overflow: hidden;text-align: left;background-color: #f0f8ff;}#sk-container-id-4 div.sk-toggleable__content pre {margin: 0.2em;color: black;border-radius: 0.25em;background-color: #f0f8ff;}#sk-container-id-4 input.sk-toggleable__control:checked~div.sk-toggleable__content {max-height: 200px;max-width: 100%;overflow: auto;}#sk-container-id-4 input.sk-toggleable__control:checked~label.sk-toggleable__label-arrow:before {content: \"▾\";}#sk-container-id-4 div.sk-estimator input.sk-toggleable__control:checked~label.sk-toggleable__label {background-color: #d4ebff;}#sk-container-id-4 div.sk-label input.sk-toggleable__control:checked~label.sk-toggleable__label {background-color: #d4ebff;}#sk-container-id-4 input.sk-hidden--visually {border: 0;clip: rect(1px 1px 1px 1px);clip: rect(1px, 1px, 1px, 1px);height: 1px;margin: -1px;overflow: hidden;padding: 0;position: absolute;width: 1px;}#sk-container-id-4 div.sk-estimator {font-family: monospace;background-color: #f0f8ff;border: 1px dotted black;border-radius: 0.25em;box-sizing: border-box;margin-bottom: 0.5em;}#sk-container-id-4 div.sk-estimator:hover {background-color: #d4ebff;}#sk-container-id-4 div.sk-parallel-item::after {content: \"\";width: 100%;border-bottom: 1px solid gray;flex-grow: 1;}#sk-container-id-4 div.sk-label:hover label.sk-toggleable__label {background-color: #d4ebff;}#sk-container-id-4 div.sk-serial::before {content: \"\";position: absolute;border-left: 1px solid gray;box-sizing: border-box;top: 0;bottom: 0;left: 50%;z-index: 0;}#sk-container-id-4 div.sk-serial {display: flex;flex-direction: column;align-items: center;background-color: white;padding-right: 0.2em;padding-left: 0.2em;position: relative;}#sk-container-id-4 div.sk-item {position: relative;z-index: 1;}#sk-container-id-4 div.sk-parallel {display: flex;align-items: stretch;justify-content: center;background-color: white;position: relative;}#sk-container-id-4 div.sk-item::before, #sk-container-id-4 div.sk-parallel-item::before {content: \"\";position: absolute;border-left: 1px solid gray;box-sizing: border-box;top: 0;bottom: 0;left: 50%;z-index: -1;}#sk-container-id-4 div.sk-parallel-item {display: flex;flex-direction: column;z-index: 1;position: relative;background-color: white;}#sk-container-id-4 div.sk-parallel-item:first-child::after {align-self: flex-end;width: 50%;}#sk-container-id-4 div.sk-parallel-item:last-child::after {align-self: flex-start;width: 50%;}#sk-container-id-4 div.sk-parallel-item:only-child::after {width: 0;}#sk-container-id-4 div.sk-dashed-wrapped {border: 1px dashed gray;margin: 0 0.4em 0.5em 0.4em;box-sizing: border-box;padding-bottom: 0.4em;background-color: white;}#sk-container-id-4 div.sk-label label {font-family: monospace;font-weight: bold;display: inline-block;line-height: 1.2em;}#sk-container-id-4 div.sk-label-container {text-align: center;}#sk-container-id-4 div.sk-container {/* jupyter's `normalize.less` sets `[hidden] { display: none; }` but bootstrap.min.css set `[hidden] { display: none !important; }` so we also need the `!important` here to be able to override the default hidden behavior on the sphinx rendered scikit-learn.org. See: https://github.com/scikit-learn/scikit-learn/issues/21755 */display: inline-block !important;position: relative;}#sk-container-id-4 div.sk-text-repr-fallback {display: none;}</style><div id=\"sk-container-id-4\" class=\"sk-top-container\"><div class=\"sk-text-repr-fallback\"><pre>OneHotEncoder(drop=&#x27;first&#x27;, handle_unknown=&#x27;ignore&#x27;, sparse=False)</pre><b>In a Jupyter environment, please rerun this cell to show the HTML representation or trust the notebook. <br />On GitHub, the HTML representation is unable to render, please try loading this page with nbviewer.org.</b></div><div class=\"sk-container\" hidden><div class=\"sk-item\"><div class=\"sk-estimator sk-toggleable\"><input class=\"sk-toggleable__control sk-hidden--visually\" id=\"sk-estimator-id-4\" type=\"checkbox\" checked><label for=\"sk-estimator-id-4\" class=\"sk-toggleable__label sk-toggleable__label-arrow\">OneHotEncoder</label><div class=\"sk-toggleable__content\"><pre>OneHotEncoder(drop=&#x27;first&#x27;, handle_unknown=&#x27;ignore&#x27;, sparse=False)</pre></div></div></div></div></div>"
      ],
      "text/plain": [
       "OneHotEncoder(drop='first', handle_unknown='ignore', sparse=False)"
      ]
     },
     "execution_count": 71,
     "metadata": {},
     "output_type": "execute_result"
    }
   ],
   "source": [
    "encoder_ohe.fit(features_train_plus_valid[ohe_features])"
   ]
  },
  {
   "cell_type": "code",
   "execution_count": 72,
   "metadata": {},
   "outputs": [],
   "source": [
    "features_train_plus_valid[encoder_ohe.get_feature_names_out()] = encoder_ohe.transform(\n",
    "    features_train_plus_valid[ohe_features])\n",
    "features_train_plus_valid = features_train_plus_valid.drop(ohe_features, axis=1)"
   ]
  },
  {
   "cell_type": "code",
   "execution_count": 73,
   "metadata": {},
   "outputs": [],
   "source": [
    "features_train_plus_valid[num_features] = scaler.fit_transform(features_train_plus_valid[num_features])"
   ]
  },
  {
   "cell_type": "code",
   "execution_count": 74,
   "metadata": {},
   "outputs": [],
   "source": [
    "# трансформируем тестовую выборку\n",
    "features_test[encoder_ohe.get_feature_names_out()] =  encoder_ohe.transform(\n",
    "    features_test[ohe_features])\n",
    "features_test = features_test.drop(ohe_features, axis=1)\n",
    "\n",
    "features_test[num_features] = scaler.transform(features_test[num_features])"
   ]
  },
  {
   "cell_type": "markdown",
   "metadata": {},
   "source": [
    "Чтобы понять, насколько полученное качество прогноза хорошо, оценим качество наивной модели."
   ]
  },
  {
   "cell_type": "code",
   "execution_count": 75,
   "metadata": {},
   "outputs": [],
   "source": [
    "dummy_model = DummyClassifier(strategy=\"stratified\", constant=1)"
   ]
  },
  {
   "cell_type": "code",
   "execution_count": 76,
   "metadata": {},
   "outputs": [
    {
     "data": {
      "text/html": [
       "<style>#sk-container-id-5 {color: black;background-color: white;}#sk-container-id-5 pre{padding: 0;}#sk-container-id-5 div.sk-toggleable {background-color: white;}#sk-container-id-5 label.sk-toggleable__label {cursor: pointer;display: block;width: 100%;margin-bottom: 0;padding: 0.3em;box-sizing: border-box;text-align: center;}#sk-container-id-5 label.sk-toggleable__label-arrow:before {content: \"▸\";float: left;margin-right: 0.25em;color: #696969;}#sk-container-id-5 label.sk-toggleable__label-arrow:hover:before {color: black;}#sk-container-id-5 div.sk-estimator:hover label.sk-toggleable__label-arrow:before {color: black;}#sk-container-id-5 div.sk-toggleable__content {max-height: 0;max-width: 0;overflow: hidden;text-align: left;background-color: #f0f8ff;}#sk-container-id-5 div.sk-toggleable__content pre {margin: 0.2em;color: black;border-radius: 0.25em;background-color: #f0f8ff;}#sk-container-id-5 input.sk-toggleable__control:checked~div.sk-toggleable__content {max-height: 200px;max-width: 100%;overflow: auto;}#sk-container-id-5 input.sk-toggleable__control:checked~label.sk-toggleable__label-arrow:before {content: \"▾\";}#sk-container-id-5 div.sk-estimator input.sk-toggleable__control:checked~label.sk-toggleable__label {background-color: #d4ebff;}#sk-container-id-5 div.sk-label input.sk-toggleable__control:checked~label.sk-toggleable__label {background-color: #d4ebff;}#sk-container-id-5 input.sk-hidden--visually {border: 0;clip: rect(1px 1px 1px 1px);clip: rect(1px, 1px, 1px, 1px);height: 1px;margin: -1px;overflow: hidden;padding: 0;position: absolute;width: 1px;}#sk-container-id-5 div.sk-estimator {font-family: monospace;background-color: #f0f8ff;border: 1px dotted black;border-radius: 0.25em;box-sizing: border-box;margin-bottom: 0.5em;}#sk-container-id-5 div.sk-estimator:hover {background-color: #d4ebff;}#sk-container-id-5 div.sk-parallel-item::after {content: \"\";width: 100%;border-bottom: 1px solid gray;flex-grow: 1;}#sk-container-id-5 div.sk-label:hover label.sk-toggleable__label {background-color: #d4ebff;}#sk-container-id-5 div.sk-serial::before {content: \"\";position: absolute;border-left: 1px solid gray;box-sizing: border-box;top: 0;bottom: 0;left: 50%;z-index: 0;}#sk-container-id-5 div.sk-serial {display: flex;flex-direction: column;align-items: center;background-color: white;padding-right: 0.2em;padding-left: 0.2em;position: relative;}#sk-container-id-5 div.sk-item {position: relative;z-index: 1;}#sk-container-id-5 div.sk-parallel {display: flex;align-items: stretch;justify-content: center;background-color: white;position: relative;}#sk-container-id-5 div.sk-item::before, #sk-container-id-5 div.sk-parallel-item::before {content: \"\";position: absolute;border-left: 1px solid gray;box-sizing: border-box;top: 0;bottom: 0;left: 50%;z-index: -1;}#sk-container-id-5 div.sk-parallel-item {display: flex;flex-direction: column;z-index: 1;position: relative;background-color: white;}#sk-container-id-5 div.sk-parallel-item:first-child::after {align-self: flex-end;width: 50%;}#sk-container-id-5 div.sk-parallel-item:last-child::after {align-self: flex-start;width: 50%;}#sk-container-id-5 div.sk-parallel-item:only-child::after {width: 0;}#sk-container-id-5 div.sk-dashed-wrapped {border: 1px dashed gray;margin: 0 0.4em 0.5em 0.4em;box-sizing: border-box;padding-bottom: 0.4em;background-color: white;}#sk-container-id-5 div.sk-label label {font-family: monospace;font-weight: bold;display: inline-block;line-height: 1.2em;}#sk-container-id-5 div.sk-label-container {text-align: center;}#sk-container-id-5 div.sk-container {/* jupyter's `normalize.less` sets `[hidden] { display: none; }` but bootstrap.min.css set `[hidden] { display: none !important; }` so we also need the `!important` here to be able to override the default hidden behavior on the sphinx rendered scikit-learn.org. See: https://github.com/scikit-learn/scikit-learn/issues/21755 */display: inline-block !important;position: relative;}#sk-container-id-5 div.sk-text-repr-fallback {display: none;}</style><div id=\"sk-container-id-5\" class=\"sk-top-container\"><div class=\"sk-text-repr-fallback\"><pre>DummyClassifier(constant=1, strategy=&#x27;constant&#x27;)</pre><b>In a Jupyter environment, please rerun this cell to show the HTML representation or trust the notebook. <br />On GitHub, the HTML representation is unable to render, please try loading this page with nbviewer.org.</b></div><div class=\"sk-container\" hidden><div class=\"sk-item\"><div class=\"sk-estimator sk-toggleable\"><input class=\"sk-toggleable__control sk-hidden--visually\" id=\"sk-estimator-id-5\" type=\"checkbox\" checked><label for=\"sk-estimator-id-5\" class=\"sk-toggleable__label sk-toggleable__label-arrow\">DummyClassifier</label><div class=\"sk-toggleable__content\"><pre>DummyClassifier(constant=1, strategy=&#x27;constant&#x27;)</pre></div></div></div></div></div>"
      ],
      "text/plain": [
       "DummyClassifier(constant=1, strategy='constant')"
      ]
     },
     "execution_count": 76,
     "metadata": {},
     "output_type": "execute_result"
    }
   ],
   "source": [
    "dummy_model.fit(features_train_plus_valid, target_train_plus_valid)"
   ]
  },
  {
   "cell_type": "code",
   "execution_count": 77,
   "metadata": {},
   "outputs": [],
   "source": [
    "dummy_predictions = dummy_model.predict(features_test)"
   ]
  },
  {
   "cell_type": "code",
   "execution_count": 78,
   "metadata": {},
   "outputs": [
    {
     "name": "stdout",
     "output_type": "stream",
     "text": [
      "Значение f1-меры при использовании наивной модели: 0.34\n"
     ]
    }
   ],
   "source": [
    "f1_dummy = f1_score(target_test, dummy_predictions)\n",
    "print(\"Значение f1-меры при использовании наивной модели: {:.2f}\".format(f1_dummy))"
   ]
  },
  {
   "cell_type": "code",
   "execution_count": 79,
   "metadata": {},
   "outputs": [],
   "source": [
    "dummy_probabilities = dummy_model.predict_proba(features_test)"
   ]
  },
  {
   "cell_type": "code",
   "execution_count": 80,
   "metadata": {},
   "outputs": [],
   "source": [
    "roc_dummy = roc_auc_score(target_test, dummy_probabilities[:,1])"
   ]
  },
  {
   "cell_type": "code",
   "execution_count": 81,
   "metadata": {},
   "outputs": [
    {
     "name": "stdout",
     "output_type": "stream",
     "text": [
      "0.5\n"
     ]
    }
   ],
   "source": [
    "print(roc_dummy)"
   ]
  },
  {
   "cell_type": "markdown",
   "metadata": {},
   "source": [
    "Теперь оценим качество выбранной модели."
   ]
  },
  {
   "cell_type": "code",
   "execution_count": 82,
   "metadata": {},
   "outputs": [],
   "source": [
    "model = RandomForestClassifier(max_depth=9, n_estimators=200, class_weight='balanced', random_state=8)"
   ]
  },
  {
   "cell_type": "code",
   "execution_count": 83,
   "metadata": {},
   "outputs": [
    {
     "data": {
      "text/html": [
       "<style>#sk-container-id-6 {color: black;background-color: white;}#sk-container-id-6 pre{padding: 0;}#sk-container-id-6 div.sk-toggleable {background-color: white;}#sk-container-id-6 label.sk-toggleable__label {cursor: pointer;display: block;width: 100%;margin-bottom: 0;padding: 0.3em;box-sizing: border-box;text-align: center;}#sk-container-id-6 label.sk-toggleable__label-arrow:before {content: \"▸\";float: left;margin-right: 0.25em;color: #696969;}#sk-container-id-6 label.sk-toggleable__label-arrow:hover:before {color: black;}#sk-container-id-6 div.sk-estimator:hover label.sk-toggleable__label-arrow:before {color: black;}#sk-container-id-6 div.sk-toggleable__content {max-height: 0;max-width: 0;overflow: hidden;text-align: left;background-color: #f0f8ff;}#sk-container-id-6 div.sk-toggleable__content pre {margin: 0.2em;color: black;border-radius: 0.25em;background-color: #f0f8ff;}#sk-container-id-6 input.sk-toggleable__control:checked~div.sk-toggleable__content {max-height: 200px;max-width: 100%;overflow: auto;}#sk-container-id-6 input.sk-toggleable__control:checked~label.sk-toggleable__label-arrow:before {content: \"▾\";}#sk-container-id-6 div.sk-estimator input.sk-toggleable__control:checked~label.sk-toggleable__label {background-color: #d4ebff;}#sk-container-id-6 div.sk-label input.sk-toggleable__control:checked~label.sk-toggleable__label {background-color: #d4ebff;}#sk-container-id-6 input.sk-hidden--visually {border: 0;clip: rect(1px 1px 1px 1px);clip: rect(1px, 1px, 1px, 1px);height: 1px;margin: -1px;overflow: hidden;padding: 0;position: absolute;width: 1px;}#sk-container-id-6 div.sk-estimator {font-family: monospace;background-color: #f0f8ff;border: 1px dotted black;border-radius: 0.25em;box-sizing: border-box;margin-bottom: 0.5em;}#sk-container-id-6 div.sk-estimator:hover {background-color: #d4ebff;}#sk-container-id-6 div.sk-parallel-item::after {content: \"\";width: 100%;border-bottom: 1px solid gray;flex-grow: 1;}#sk-container-id-6 div.sk-label:hover label.sk-toggleable__label {background-color: #d4ebff;}#sk-container-id-6 div.sk-serial::before {content: \"\";position: absolute;border-left: 1px solid gray;box-sizing: border-box;top: 0;bottom: 0;left: 50%;z-index: 0;}#sk-container-id-6 div.sk-serial {display: flex;flex-direction: column;align-items: center;background-color: white;padding-right: 0.2em;padding-left: 0.2em;position: relative;}#sk-container-id-6 div.sk-item {position: relative;z-index: 1;}#sk-container-id-6 div.sk-parallel {display: flex;align-items: stretch;justify-content: center;background-color: white;position: relative;}#sk-container-id-6 div.sk-item::before, #sk-container-id-6 div.sk-parallel-item::before {content: \"\";position: absolute;border-left: 1px solid gray;box-sizing: border-box;top: 0;bottom: 0;left: 50%;z-index: -1;}#sk-container-id-6 div.sk-parallel-item {display: flex;flex-direction: column;z-index: 1;position: relative;background-color: white;}#sk-container-id-6 div.sk-parallel-item:first-child::after {align-self: flex-end;width: 50%;}#sk-container-id-6 div.sk-parallel-item:last-child::after {align-self: flex-start;width: 50%;}#sk-container-id-6 div.sk-parallel-item:only-child::after {width: 0;}#sk-container-id-6 div.sk-dashed-wrapped {border: 1px dashed gray;margin: 0 0.4em 0.5em 0.4em;box-sizing: border-box;padding-bottom: 0.4em;background-color: white;}#sk-container-id-6 div.sk-label label {font-family: monospace;font-weight: bold;display: inline-block;line-height: 1.2em;}#sk-container-id-6 div.sk-label-container {text-align: center;}#sk-container-id-6 div.sk-container {/* jupyter's `normalize.less` sets `[hidden] { display: none; }` but bootstrap.min.css set `[hidden] { display: none !important; }` so we also need the `!important` here to be able to override the default hidden behavior on the sphinx rendered scikit-learn.org. See: https://github.com/scikit-learn/scikit-learn/issues/21755 */display: inline-block !important;position: relative;}#sk-container-id-6 div.sk-text-repr-fallback {display: none;}</style><div id=\"sk-container-id-6\" class=\"sk-top-container\"><div class=\"sk-text-repr-fallback\"><pre>RandomForestClassifier(class_weight=&#x27;balanced&#x27;, max_depth=9, n_estimators=200,\n",
       "                       random_state=8)</pre><b>In a Jupyter environment, please rerun this cell to show the HTML representation or trust the notebook. <br />On GitHub, the HTML representation is unable to render, please try loading this page with nbviewer.org.</b></div><div class=\"sk-container\" hidden><div class=\"sk-item\"><div class=\"sk-estimator sk-toggleable\"><input class=\"sk-toggleable__control sk-hidden--visually\" id=\"sk-estimator-id-6\" type=\"checkbox\" checked><label for=\"sk-estimator-id-6\" class=\"sk-toggleable__label sk-toggleable__label-arrow\">RandomForestClassifier</label><div class=\"sk-toggleable__content\"><pre>RandomForestClassifier(class_weight=&#x27;balanced&#x27;, max_depth=9, n_estimators=200,\n",
       "                       random_state=8)</pre></div></div></div></div></div>"
      ],
      "text/plain": [
       "RandomForestClassifier(class_weight='balanced', max_depth=9, n_estimators=200,\n",
       "                       random_state=8)"
      ]
     },
     "execution_count": 83,
     "metadata": {},
     "output_type": "execute_result"
    }
   ],
   "source": [
    "model.fit(features_train_plus_valid, target_train_plus_valid)"
   ]
  },
  {
   "cell_type": "code",
   "execution_count": 84,
   "metadata": {},
   "outputs": [],
   "source": [
    "predictions = model.predict(features_test)"
   ]
  },
  {
   "cell_type": "code",
   "execution_count": 85,
   "metadata": {},
   "outputs": [
    {
     "name": "stdout",
     "output_type": "stream",
     "text": [
      "f1-мера на тестовой выборке для выбранной модели: 0.64\n"
     ]
    }
   ],
   "source": [
    "f1_test = f1_score(target_test, predictions)\n",
    "print(\"f1-мера на тестовой выборке для выбранной модели: {:.2f}\".format(f1_test))"
   ]
  },
  {
   "cell_type": "code",
   "execution_count": 86,
   "metadata": {},
   "outputs": [
    {
     "name": "stdout",
     "output_type": "stream",
     "text": [
      "Значение площади под roc-кривой на тестовой выборке для выбранной модели: 0.87\n"
     ]
    }
   ],
   "source": [
    "probabilities_test = model.predict_proba(features_test)\n",
    "roc_auc_test = roc_auc_score(target_test, probabilities_test[:, 1]) \n",
    "print(\"Значение площади под roc-кривой на тестовой выборке для выбранной модели: {:.2f}\".format(roc_auc_test))"
   ]
  },
  {
   "cell_type": "code",
   "execution_count": 87,
   "metadata": {},
   "outputs": [
    {
     "name": "stdout",
     "output_type": "stream",
     "text": [
      "Рост f1-меры по сравнению с наивной моделью: 87.93%\n"
     ]
    }
   ],
   "source": [
    "print(\"Рост f1-меры по сравнению с наивной моделью: {:.2%}\".format(f1_test/f1_dummy-1))"
   ]
  },
  {
   "cell_type": "code",
   "execution_count": 88,
   "metadata": {},
   "outputs": [
    {
     "name": "stdout",
     "output_type": "stream",
     "text": [
      "Рост roc_auc по сравнению с наивной моделью: 73.72%\n"
     ]
    }
   ],
   "source": [
    "print(\"Рост roc_auc по сравнению с наивной моделью: {:.2%}\".format(roc_auc_test/roc_dummy-1))"
   ]
  },
  {
   "cell_type": "markdown",
   "metadata": {},
   "source": [
    "Модель адекватна.  \n",
    "На тестовой выборке качество выбранной модели получилось примерно таким же как на валидацинной.   \n",
    "Целевое значение f1-меры достигнуто."
   ]
  },
  {
   "cell_type": "code",
   "execution_count": 89,
   "metadata": {},
   "outputs": [
    {
     "name": "stdout",
     "output_type": "stream",
     "text": [
      "Полнота на тестовой выборке для выбранной модели: 0.69\n"
     ]
    }
   ],
   "source": [
    "recall_test = recall_score(target_test, predictions)\n",
    "print(\"Полнота на тестовой выборке для выбранной модели: {:.2f}\".format(recall_test))"
   ]
  },
  {
   "cell_type": "markdown",
   "metadata": {},
   "source": [
    "Модель позволяет обнаруживать почти 70% нелояльных клиентов."
   ]
  },
  {
   "cell_type": "markdown",
   "metadata": {},
   "source": [
    "## Вывод"
   ]
  },
  {
   "cell_type": "markdown",
   "metadata": {},
   "source": [
    "В ходе проекта были рассмотрены две модели классификации для предсказания оттока клиентов банка: логистическая регрессия и случайный лес.  \n",
    "Поскольку соотношение лояльных и нелояльных клиентов составляет примерно 1/4, были также рассмотрены два метода борьбы с дисбалансом классов: использование встроенного в RandomForest аргумента class_weight и увеличение в выборке объектов редкого класса.  \n",
    "Логистическая регрессия показала себя гораздо хуже: даже при использовании апсемплинга качество на валидационной выборке получилось ниже целевого.  \n",
    "Для модели случайного леса лучше всего сработал встроенный агрумент class_weight='balanced'. На валидационной выборке были подобраны гиперпараметры: максимальная глубина дерева и количетсво деревьев. Наилучшими значениями стали 9 и 200 соответственно.  \n",
    "На тестовой выборке выбранная модель показала значение f1-меры 0.64 (на 8.5% выше целевого значения и на 88% выше значения наивной модели, всегда предсказывающей отток). Значение площади под roc-кривой превышает данный показатель наивной модели на 74%.  \n",
    "Используя выбранную модель предсказания оттока, мы сможем обнаружить около 70% потенциально нелояльных клиентов. Это позволит сконцентрировать маркетинговые усилия именно на них, что приведет к экономии бюджета."
   ]
  },
  {
   "cell_type": "code",
   "execution_count": null,
   "metadata": {},
   "outputs": [],
   "source": []
  }
 ],
 "metadata": {
  "ExecuteTimeLog": [
   {
    "duration": 420,
    "start_time": "2023-02-17T07:34:30.805Z"
   },
   {
    "duration": 159,
    "start_time": "2023-02-17T07:36:45.660Z"
   },
   {
    "duration": 22,
    "start_time": "2023-02-17T07:36:57.923Z"
   },
   {
    "duration": 4,
    "start_time": "2023-02-17T07:38:08.289Z"
   },
   {
    "duration": 12,
    "start_time": "2023-02-17T07:38:33.975Z"
   },
   {
    "duration": 5,
    "start_time": "2023-02-17T07:43:22.346Z"
   },
   {
    "duration": 3,
    "start_time": "2023-02-17T07:43:27.974Z"
   },
   {
    "duration": 11,
    "start_time": "2023-02-17T07:43:37.417Z"
   },
   {
    "duration": 10,
    "start_time": "2023-02-17T07:52:29.512Z"
   },
   {
    "duration": 10,
    "start_time": "2023-02-17T07:53:09.281Z"
   },
   {
    "duration": 448,
    "start_time": "2023-02-17T07:53:09.292Z"
   },
   {
    "duration": 5,
    "start_time": "2023-02-17T07:53:35.280Z"
   },
   {
    "duration": 4,
    "start_time": "2023-02-17T07:53:46.216Z"
   },
   {
    "duration": 39,
    "start_time": "2023-02-17T07:54:00.425Z"
   },
   {
    "duration": 5,
    "start_time": "2023-02-17T07:55:37.929Z"
   },
   {
    "duration": 5,
    "start_time": "2023-02-17T07:57:45.953Z"
   },
   {
    "duration": 4,
    "start_time": "2023-02-17T08:09:55.421Z"
   },
   {
    "duration": 3,
    "start_time": "2023-02-17T08:10:09.249Z"
   },
   {
    "duration": 7,
    "start_time": "2023-02-17T08:11:06.056Z"
   },
   {
    "duration": 6,
    "start_time": "2023-02-17T08:11:37.358Z"
   },
   {
    "duration": 809,
    "start_time": "2023-02-17T08:12:06.428Z"
   },
   {
    "duration": 685,
    "start_time": "2023-02-17T08:14:00.273Z"
   },
   {
    "duration": 257,
    "start_time": "2023-02-17T08:14:15.948Z"
   },
   {
    "duration": 775,
    "start_time": "2023-02-17T08:14:31.604Z"
   },
   {
    "duration": 1211,
    "start_time": "2023-02-17T08:15:08.570Z"
   },
   {
    "duration": 2289,
    "start_time": "2023-02-17T08:15:44.607Z"
   },
   {
    "duration": 1714,
    "start_time": "2023-02-17T08:15:57.819Z"
   },
   {
    "duration": 5,
    "start_time": "2023-02-17T08:18:09.676Z"
   },
   {
    "duration": 3,
    "start_time": "2023-02-17T17:33:59.400Z"
   },
   {
    "duration": 6,
    "start_time": "2023-02-17T17:33:59.405Z"
   },
   {
    "duration": 56,
    "start_time": "2023-02-17T17:33:59.412Z"
   },
   {
    "duration": 12,
    "start_time": "2023-02-17T17:33:59.470Z"
   },
   {
    "duration": 5,
    "start_time": "2023-02-17T17:33:59.484Z"
   },
   {
    "duration": 6,
    "start_time": "2023-02-17T17:33:59.491Z"
   },
   {
    "duration": 18,
    "start_time": "2023-02-17T17:33:59.498Z"
   },
   {
    "duration": 32,
    "start_time": "2023-02-17T17:33:59.518Z"
   },
   {
    "duration": 6,
    "start_time": "2023-02-17T17:33:59.551Z"
   },
   {
    "duration": 20,
    "start_time": "2023-02-17T17:33:59.560Z"
   },
   {
    "duration": 5,
    "start_time": "2023-02-17T17:33:59.582Z"
   },
   {
    "duration": 7,
    "start_time": "2023-02-17T17:33:59.588Z"
   },
   {
    "duration": 59,
    "start_time": "2023-02-17T17:33:59.596Z"
   },
   {
    "duration": 1660,
    "start_time": "2023-02-17T17:33:59.664Z"
   },
   {
    "duration": 7,
    "start_time": "2023-02-17T17:34:01.325Z"
   },
   {
    "duration": 84,
    "start_time": "2023-02-17T17:34:01.334Z"
   },
   {
    "duration": 16,
    "start_time": "2023-02-17T17:34:01.420Z"
   },
   {
    "duration": 9,
    "start_time": "2023-02-17T17:34:11.916Z"
   },
   {
    "duration": 16,
    "start_time": "2023-02-17T17:34:48.886Z"
   },
   {
    "duration": 10,
    "start_time": "2023-02-17T17:34:56.380Z"
   },
   {
    "duration": 2,
    "start_time": "2023-02-17T17:35:20.808Z"
   },
   {
    "duration": 6,
    "start_time": "2023-02-17T17:36:07.322Z"
   },
   {
    "duration": 892,
    "start_time": "2023-02-17T17:42:44.081Z"
   },
   {
    "duration": 3,
    "start_time": "2023-02-17T17:43:53.349Z"
   },
   {
    "duration": 890,
    "start_time": "2023-02-17T17:52:50.805Z"
   },
   {
    "duration": 22,
    "start_time": "2023-02-17T17:53:00.294Z"
   },
   {
    "duration": 89,
    "start_time": "2023-02-17T17:54:30.603Z"
   },
   {
    "duration": 46,
    "start_time": "2023-02-17T17:54:40.324Z"
   },
   {
    "duration": 18,
    "start_time": "2023-02-17T17:54:40.904Z"
   },
   {
    "duration": 6,
    "start_time": "2023-02-17T17:54:42.756Z"
   },
   {
    "duration": 15,
    "start_time": "2023-02-17T17:54:56.984Z"
   },
   {
    "duration": 8,
    "start_time": "2023-02-17T17:55:11.027Z"
   },
   {
    "duration": 7,
    "start_time": "2023-02-17T17:55:11.664Z"
   },
   {
    "duration": 5,
    "start_time": "2023-02-17T17:55:14.196Z"
   },
   {
    "duration": 13,
    "start_time": "2023-02-17T17:55:18.712Z"
   },
   {
    "duration": 15,
    "start_time": "2023-02-17T17:55:19.151Z"
   },
   {
    "duration": 5,
    "start_time": "2023-02-17T17:58:11.710Z"
   },
   {
    "duration": 15,
    "start_time": "2023-02-17T17:58:54.011Z"
   },
   {
    "duration": 8,
    "start_time": "2023-02-17T17:59:22.095Z"
   },
   {
    "duration": 1574,
    "start_time": "2023-02-19T17:30:56.244Z"
   },
   {
    "duration": 3,
    "start_time": "2023-02-19T17:30:57.819Z"
   },
   {
    "duration": 87,
    "start_time": "2023-02-19T17:30:57.824Z"
   },
   {
    "duration": 17,
    "start_time": "2023-02-19T17:30:57.914Z"
   },
   {
    "duration": 6,
    "start_time": "2023-02-19T17:30:57.933Z"
   },
   {
    "duration": 8,
    "start_time": "2023-02-19T17:30:57.941Z"
   },
   {
    "duration": 14,
    "start_time": "2023-02-19T17:30:57.951Z"
   },
   {
    "duration": 37,
    "start_time": "2023-02-19T17:30:57.967Z"
   },
   {
    "duration": 10,
    "start_time": "2023-02-19T17:30:58.005Z"
   },
   {
    "duration": 4,
    "start_time": "2023-02-19T17:30:58.018Z"
   },
   {
    "duration": 10,
    "start_time": "2023-02-19T17:30:58.024Z"
   },
   {
    "duration": 39,
    "start_time": "2023-02-19T17:30:58.036Z"
   },
   {
    "duration": 1558,
    "start_time": "2023-02-19T17:30:58.076Z"
   },
   {
    "duration": 7,
    "start_time": "2023-02-19T17:30:59.635Z"
   },
   {
    "duration": 7,
    "start_time": "2023-02-19T17:30:59.643Z"
   },
   {
    "duration": 6,
    "start_time": "2023-02-19T17:30:59.651Z"
   },
   {
    "duration": 11,
    "start_time": "2023-02-19T17:30:59.658Z"
   },
   {
    "duration": 11,
    "start_time": "2023-02-19T17:30:59.700Z"
   },
   {
    "duration": 8,
    "start_time": "2023-02-19T17:30:59.712Z"
   },
   {
    "duration": 8,
    "start_time": "2023-02-19T17:30:59.722Z"
   },
   {
    "duration": 95,
    "start_time": "2023-02-19T17:30:59.731Z"
   },
   {
    "duration": 0,
    "start_time": "2023-02-19T17:30:59.827Z"
   },
   {
    "duration": 120,
    "start_time": "2023-02-19T17:34:51.359Z"
   },
   {
    "duration": 11,
    "start_time": "2023-02-19T17:38:55.561Z"
   },
   {
    "duration": 5,
    "start_time": "2023-02-19T17:39:02.915Z"
   },
   {
    "duration": 7,
    "start_time": "2023-02-19T17:39:03.477Z"
   },
   {
    "duration": 15,
    "start_time": "2023-02-19T17:39:04.033Z"
   },
   {
    "duration": 3,
    "start_time": "2023-02-19T17:40:15.177Z"
   },
   {
    "duration": 3,
    "start_time": "2023-02-19T17:40:15.540Z"
   },
   {
    "duration": 46,
    "start_time": "2023-02-19T17:40:16.569Z"
   },
   {
    "duration": 12,
    "start_time": "2023-02-19T17:40:16.895Z"
   },
   {
    "duration": 4,
    "start_time": "2023-02-19T17:40:17.543Z"
   },
   {
    "duration": 4,
    "start_time": "2023-02-19T17:40:17.924Z"
   },
   {
    "duration": 12,
    "start_time": "2023-02-19T17:40:18.210Z"
   },
   {
    "duration": 11,
    "start_time": "2023-02-19T17:40:18.559Z"
   },
   {
    "duration": 9,
    "start_time": "2023-02-19T17:40:18.932Z"
   },
   {
    "duration": 5,
    "start_time": "2023-02-19T17:40:19.309Z"
   },
   {
    "duration": 5,
    "start_time": "2023-02-19T17:40:19.720Z"
   },
   {
    "duration": 37,
    "start_time": "2023-02-19T17:40:20.140Z"
   },
   {
    "duration": 1732,
    "start_time": "2023-02-19T17:40:20.522Z"
   },
   {
    "duration": 7,
    "start_time": "2023-02-19T17:40:22.256Z"
   },
   {
    "duration": 7,
    "start_time": "2023-02-19T17:40:22.264Z"
   },
   {
    "duration": 26,
    "start_time": "2023-02-19T17:40:22.274Z"
   },
   {
    "duration": 12,
    "start_time": "2023-02-19T17:40:24.313Z"
   },
   {
    "duration": 11,
    "start_time": "2023-02-19T17:40:24.763Z"
   },
   {
    "duration": 4,
    "start_time": "2023-02-19T17:40:25.759Z"
   },
   {
    "duration": 7,
    "start_time": "2023-02-19T17:40:26.380Z"
   },
   {
    "duration": 13,
    "start_time": "2023-02-19T17:40:27.048Z"
   },
   {
    "duration": 13,
    "start_time": "2023-02-19T17:46:31.993Z"
   },
   {
    "duration": 13,
    "start_time": "2023-02-19T17:46:46.396Z"
   },
   {
    "duration": 1350,
    "start_time": "2023-02-19T17:47:02.477Z"
   },
   {
    "duration": 3,
    "start_time": "2023-02-19T17:47:03.829Z"
   },
   {
    "duration": 43,
    "start_time": "2023-02-19T17:47:03.833Z"
   },
   {
    "duration": 15,
    "start_time": "2023-02-19T17:47:03.878Z"
   },
   {
    "duration": 3,
    "start_time": "2023-02-19T17:47:03.896Z"
   },
   {
    "duration": 10,
    "start_time": "2023-02-19T17:47:03.901Z"
   },
   {
    "duration": 39,
    "start_time": "2023-02-19T17:47:03.913Z"
   },
   {
    "duration": 13,
    "start_time": "2023-02-19T17:47:03.954Z"
   },
   {
    "duration": 12,
    "start_time": "2023-02-19T17:47:03.969Z"
   },
   {
    "duration": 6,
    "start_time": "2023-02-19T17:47:03.983Z"
   },
   {
    "duration": 15,
    "start_time": "2023-02-19T17:47:03.990Z"
   },
   {
    "duration": 48,
    "start_time": "2023-02-19T17:47:04.008Z"
   },
   {
    "duration": 1706,
    "start_time": "2023-02-19T17:47:04.058Z"
   },
   {
    "duration": 8,
    "start_time": "2023-02-19T17:47:05.767Z"
   },
   {
    "duration": 23,
    "start_time": "2023-02-19T17:47:05.777Z"
   },
   {
    "duration": 3,
    "start_time": "2023-02-19T17:47:05.802Z"
   },
   {
    "duration": 17,
    "start_time": "2023-02-19T17:47:05.807Z"
   },
   {
    "duration": 15,
    "start_time": "2023-02-19T17:47:05.826Z"
   },
   {
    "duration": 16,
    "start_time": "2023-02-19T17:47:05.843Z"
   },
   {
    "duration": 9,
    "start_time": "2023-02-19T17:47:05.861Z"
   },
   {
    "duration": 8,
    "start_time": "2023-02-19T17:47:05.872Z"
   },
   {
    "duration": 19,
    "start_time": "2023-02-19T17:47:05.881Z"
   },
   {
    "duration": 13,
    "start_time": "2023-02-19T17:47:05.901Z"
   },
   {
    "duration": 106,
    "start_time": "2023-02-19T17:56:38.499Z"
   },
   {
    "duration": 4,
    "start_time": "2023-02-19T17:56:43.488Z"
   },
   {
    "duration": 98,
    "start_time": "2023-02-19T17:58:38.692Z"
   },
   {
    "duration": 26,
    "start_time": "2023-02-19T17:58:49.465Z"
   },
   {
    "duration": 6,
    "start_time": "2023-02-19T17:59:16.686Z"
   },
   {
    "duration": 6,
    "start_time": "2023-02-19T17:59:17.393Z"
   },
   {
    "duration": 5,
    "start_time": "2023-02-19T17:59:17.785Z"
   },
   {
    "duration": 7,
    "start_time": "2023-02-19T17:59:18.317Z"
   },
   {
    "duration": 68,
    "start_time": "2023-02-19T17:59:21.217Z"
   },
   {
    "duration": 63,
    "start_time": "2023-02-19T17:59:33.304Z"
   },
   {
    "duration": 1470,
    "start_time": "2023-02-19T17:59:39.622Z"
   },
   {
    "duration": 144,
    "start_time": "2023-02-19T17:59:54.167Z"
   },
   {
    "duration": 5,
    "start_time": "2023-02-19T18:00:13.155Z"
   },
   {
    "duration": 32794,
    "start_time": "2023-02-19T18:02:21.699Z"
   },
   {
    "duration": 5,
    "start_time": "2023-02-19T18:02:54.495Z"
   },
   {
    "duration": 74117,
    "start_time": "2023-02-19T18:03:09.014Z"
   },
   {
    "duration": 3,
    "start_time": "2023-02-19T18:04:23.133Z"
   },
   {
    "duration": 1565,
    "start_time": "2023-02-26T06:29:26.258Z"
   },
   {
    "duration": 4,
    "start_time": "2023-02-26T06:29:27.825Z"
   },
   {
    "duration": 5,
    "start_time": "2023-02-26T06:29:27.831Z"
   },
   {
    "duration": 184,
    "start_time": "2023-02-26T06:29:27.837Z"
   },
   {
    "duration": 17,
    "start_time": "2023-02-26T06:29:28.024Z"
   },
   {
    "duration": 14,
    "start_time": "2023-02-26T06:29:28.042Z"
   },
   {
    "duration": 7,
    "start_time": "2023-02-26T06:29:28.057Z"
   },
   {
    "duration": 15,
    "start_time": "2023-02-26T06:29:28.065Z"
   },
   {
    "duration": 12,
    "start_time": "2023-02-26T06:29:28.082Z"
   },
   {
    "duration": 10,
    "start_time": "2023-02-26T06:29:28.095Z"
   },
   {
    "duration": 5,
    "start_time": "2023-02-26T06:29:28.107Z"
   },
   {
    "duration": 9,
    "start_time": "2023-02-26T06:29:28.113Z"
   },
   {
    "duration": 55,
    "start_time": "2023-02-26T06:29:28.123Z"
   },
   {
    "duration": 1662,
    "start_time": "2023-02-26T06:29:28.181Z"
   },
   {
    "duration": 7,
    "start_time": "2023-02-26T06:29:29.845Z"
   },
   {
    "duration": 8,
    "start_time": "2023-02-26T06:29:29.853Z"
   },
   {
    "duration": 4,
    "start_time": "2023-02-26T06:29:29.863Z"
   },
   {
    "duration": 81,
    "start_time": "2023-02-26T06:29:29.869Z"
   },
   {
    "duration": 32,
    "start_time": "2023-02-26T06:29:29.952Z"
   },
   {
    "duration": 7,
    "start_time": "2023-02-26T06:29:29.986Z"
   },
   {
    "duration": 7,
    "start_time": "2023-02-26T06:29:29.995Z"
   },
   {
    "duration": 33,
    "start_time": "2023-02-26T06:29:30.004Z"
   },
   {
    "duration": 14,
    "start_time": "2023-02-26T06:29:30.039Z"
   },
   {
    "duration": 1552,
    "start_time": "2023-02-26T06:29:30.054Z"
   },
   {
    "duration": 4,
    "start_time": "2023-02-26T06:29:31.608Z"
   },
   {
    "duration": 138885,
    "start_time": "2023-02-26T06:29:31.614Z"
   },
   {
    "duration": 144543,
    "start_time": "2023-02-26T06:34:33.421Z"
   },
   {
    "duration": 4,
    "start_time": "2023-02-26T08:00:24.854Z"
   },
   {
    "duration": 148,
    "start_time": "2023-02-26T08:03:26.604Z"
   },
   {
    "duration": 1695,
    "start_time": "2023-02-26T08:03:45.908Z"
   },
   {
    "duration": 23,
    "start_time": "2023-02-26T08:05:00.520Z"
   },
   {
    "duration": 123,
    "start_time": "2023-02-26T08:05:09.766Z"
   },
   {
    "duration": 3,
    "start_time": "2023-02-26T08:05:48.597Z"
   },
   {
    "duration": 6,
    "start_time": "2023-02-26T08:06:28.303Z"
   },
   {
    "duration": 3,
    "start_time": "2023-02-26T08:06:37.405Z"
   },
   {
    "duration": 59,
    "start_time": "2023-02-26T19:08:39.427Z"
   },
   {
    "duration": 1614,
    "start_time": "2023-02-26T19:08:47.078Z"
   },
   {
    "duration": 3,
    "start_time": "2023-02-26T19:08:48.694Z"
   },
   {
    "duration": 6,
    "start_time": "2023-02-26T19:08:48.699Z"
   },
   {
    "duration": 5,
    "start_time": "2023-02-26T19:08:48.707Z"
   },
   {
    "duration": 213,
    "start_time": "2023-02-26T19:08:48.714Z"
   },
   {
    "duration": 24,
    "start_time": "2023-02-26T19:08:48.930Z"
   },
   {
    "duration": 7,
    "start_time": "2023-02-26T19:08:48.956Z"
   },
   {
    "duration": 11,
    "start_time": "2023-02-26T19:08:48.967Z"
   },
   {
    "duration": 19,
    "start_time": "2023-02-26T19:08:48.980Z"
   },
   {
    "duration": 13,
    "start_time": "2023-02-26T19:08:49.002Z"
   },
   {
    "duration": 11,
    "start_time": "2023-02-26T19:08:49.017Z"
   },
   {
    "duration": 33,
    "start_time": "2023-02-26T19:08:49.030Z"
   },
   {
    "duration": 9,
    "start_time": "2023-02-26T19:08:49.067Z"
   },
   {
    "duration": 37,
    "start_time": "2023-02-26T19:08:49.079Z"
   },
   {
    "duration": 1814,
    "start_time": "2023-02-26T19:08:49.117Z"
   },
   {
    "duration": 21,
    "start_time": "2023-02-26T19:08:50.933Z"
   },
   {
    "duration": 23,
    "start_time": "2023-02-26T19:08:50.955Z"
   },
   {
    "duration": 4,
    "start_time": "2023-02-26T19:08:50.981Z"
   },
   {
    "duration": 17,
    "start_time": "2023-02-26T19:08:50.987Z"
   },
   {
    "duration": 11,
    "start_time": "2023-02-26T19:08:51.006Z"
   },
   {
    "duration": 11,
    "start_time": "2023-02-26T19:08:51.019Z"
   },
   {
    "duration": 26,
    "start_time": "2023-02-26T19:08:51.032Z"
   },
   {
    "duration": 12,
    "start_time": "2023-02-26T19:08:51.063Z"
   },
   {
    "duration": 11,
    "start_time": "2023-02-26T19:08:51.077Z"
   },
   {
    "duration": 1626,
    "start_time": "2023-02-26T19:08:51.089Z"
   },
   {
    "duration": 3,
    "start_time": "2023-02-26T19:08:52.717Z"
   },
   {
    "duration": 144464,
    "start_time": "2023-02-26T19:08:52.721Z"
   },
   {
    "duration": 3,
    "start_time": "2023-02-26T19:11:17.187Z"
   },
   {
    "duration": 1848,
    "start_time": "2023-02-26T19:11:17.192Z"
   },
   {
    "duration": 114,
    "start_time": "2023-02-26T19:11:19.048Z"
   },
   {
    "duration": 7,
    "start_time": "2023-02-26T19:11:19.164Z"
   },
   {
    "duration": 4,
    "start_time": "2023-02-26T19:11:19.173Z"
   },
   {
    "duration": 10,
    "start_time": "2023-02-26T19:11:19.179Z"
   },
   {
    "duration": 5,
    "start_time": "2023-02-26T19:12:43.196Z"
   },
   {
    "duration": 3,
    "start_time": "2023-02-26T19:27:33.350Z"
   },
   {
    "duration": 1617,
    "start_time": "2023-02-26T19:27:49.093Z"
   },
   {
    "duration": 106,
    "start_time": "2023-02-26T19:28:53.127Z"
   },
   {
    "duration": 5,
    "start_time": "2023-02-26T19:29:22.134Z"
   },
   {
    "duration": 3,
    "start_time": "2023-02-26T19:29:39.599Z"
   },
   {
    "duration": 93,
    "start_time": "2023-02-26T19:40:53.994Z"
   },
   {
    "duration": 17,
    "start_time": "2023-02-26T19:41:19.896Z"
   },
   {
    "duration": 14,
    "start_time": "2023-02-26T19:41:29.289Z"
   },
   {
    "duration": 3,
    "start_time": "2023-02-26T19:42:59.774Z"
   },
   {
    "duration": 17,
    "start_time": "2023-02-26T19:44:03.306Z"
   },
   {
    "duration": 13,
    "start_time": "2023-02-26T19:44:18.197Z"
   },
   {
    "duration": 3,
    "start_time": "2023-02-26T19:45:04.622Z"
   },
   {
    "duration": 2379,
    "start_time": "2023-02-26T19:45:30.801Z"
   },
   {
    "duration": 109,
    "start_time": "2023-02-26T19:45:44.611Z"
   },
   {
    "duration": 7,
    "start_time": "2023-02-26T19:45:57.670Z"
   },
   {
    "duration": 1777,
    "start_time": "2023-03-06T16:22:00.232Z"
   },
   {
    "duration": 4,
    "start_time": "2023-03-06T16:24:15.733Z"
   },
   {
    "duration": 166,
    "start_time": "2023-03-06T16:25:42.044Z"
   },
   {
    "duration": 24,
    "start_time": "2023-03-06T16:25:42.781Z"
   },
   {
    "duration": 5,
    "start_time": "2023-03-06T16:29:00.052Z"
   },
   {
    "duration": 4,
    "start_time": "2023-03-06T16:29:01.602Z"
   },
   {
    "duration": 15,
    "start_time": "2023-03-06T16:29:02.249Z"
   },
   {
    "duration": 19,
    "start_time": "2023-03-06T16:29:02.939Z"
   },
   {
    "duration": 10,
    "start_time": "2023-03-06T16:29:06.692Z"
   },
   {
    "duration": 5,
    "start_time": "2023-03-06T16:29:07.283Z"
   },
   {
    "duration": 6,
    "start_time": "2023-03-06T16:29:08.013Z"
   },
   {
    "duration": 36,
    "start_time": "2023-03-06T16:29:09.067Z"
   },
   {
    "duration": 1982,
    "start_time": "2023-03-06T16:29:10.553Z"
   },
   {
    "duration": 26,
    "start_time": "2023-03-06T16:29:16.320Z"
   },
   {
    "duration": 8,
    "start_time": "2023-03-06T16:29:16.895Z"
   },
   {
    "duration": 9,
    "start_time": "2023-03-06T16:29:19.350Z"
   },
   {
    "duration": 11,
    "start_time": "2023-03-06T16:30:55.701Z"
   },
   {
    "duration": 13,
    "start_time": "2023-03-06T16:30:56.808Z"
   },
   {
    "duration": 7,
    "start_time": "2023-03-06T16:31:04.180Z"
   },
   {
    "duration": 9,
    "start_time": "2023-03-06T16:40:05.890Z"
   },
   {
    "duration": 9,
    "start_time": "2023-03-06T16:40:17.455Z"
   },
   {
    "duration": 8,
    "start_time": "2023-03-06T16:40:19.892Z"
   },
   {
    "duration": 1689,
    "start_time": "2023-03-08T17:52:54.309Z"
   },
   {
    "duration": 3,
    "start_time": "2023-03-08T17:52:56.000Z"
   },
   {
    "duration": 114,
    "start_time": "2023-03-08T17:52:56.602Z"
   },
   {
    "duration": 23,
    "start_time": "2023-03-08T17:52:57.149Z"
   },
   {
    "duration": 5,
    "start_time": "2023-03-08T17:52:59.811Z"
   },
   {
    "duration": 4,
    "start_time": "2023-03-08T17:53:00.408Z"
   },
   {
    "duration": 15,
    "start_time": "2023-03-08T17:53:01.308Z"
   },
   {
    "duration": 11,
    "start_time": "2023-03-08T17:53:02.717Z"
   },
   {
    "duration": 11,
    "start_time": "2023-03-08T17:53:03.641Z"
   },
   {
    "duration": 7,
    "start_time": "2023-03-08T17:53:04.405Z"
   },
   {
    "duration": 5,
    "start_time": "2023-03-08T17:53:05.105Z"
   },
   {
    "duration": 36,
    "start_time": "2023-03-08T17:53:05.904Z"
   },
   {
    "duration": 1818,
    "start_time": "2023-03-08T17:53:06.805Z"
   },
   {
    "duration": 7,
    "start_time": "2023-03-08T17:53:08.625Z"
   },
   {
    "duration": 7,
    "start_time": "2023-03-08T17:53:08.704Z"
   },
   {
    "duration": 4,
    "start_time": "2023-03-08T17:53:09.448Z"
   },
   {
    "duration": 13,
    "start_time": "2023-03-08T17:53:35.115Z"
   },
   {
    "duration": 15,
    "start_time": "2023-03-08T17:53:35.804Z"
   },
   {
    "duration": 7,
    "start_time": "2023-03-08T17:53:37.001Z"
   },
   {
    "duration": 10,
    "start_time": "2023-03-08T17:53:37.504Z"
   },
   {
    "duration": 8,
    "start_time": "2023-03-08T17:53:38.237Z"
   },
   {
    "duration": 13,
    "start_time": "2023-03-08T17:53:45.284Z"
   },
   {
    "duration": 1586,
    "start_time": "2023-03-08T17:54:07.954Z"
   },
   {
    "duration": 3,
    "start_time": "2023-03-08T17:54:09.542Z"
   },
   {
    "duration": 150881,
    "start_time": "2023-03-08T17:55:01.132Z"
   },
   {
    "duration": 2,
    "start_time": "2023-03-08T17:57:39.512Z"
   },
   {
    "duration": 37391,
    "start_time": "2023-03-08T17:57:45.505Z"
   },
   {
    "duration": 3,
    "start_time": "2023-03-08T17:58:25.941Z"
   },
   {
    "duration": 3,
    "start_time": "2023-03-08T18:06:42.194Z"
   },
   {
    "duration": 721,
    "start_time": "2023-03-08T18:07:01.756Z"
   },
   {
    "duration": 60,
    "start_time": "2023-03-08T18:07:12.358Z"
   },
   {
    "duration": 7,
    "start_time": "2023-03-08T18:07:13.154Z"
   },
   {
    "duration": 3,
    "start_time": "2023-03-08T18:07:14.038Z"
   },
   {
    "duration": 6,
    "start_time": "2023-03-08T18:07:28.633Z"
   },
   {
    "duration": 4,
    "start_time": "2023-03-08T18:07:29.697Z"
   },
   {
    "duration": 4,
    "start_time": "2023-03-08T18:07:49.990Z"
   },
   {
    "duration": 3,
    "start_time": "2023-03-08T18:07:58.590Z"
   },
   {
    "duration": 697,
    "start_time": "2023-03-08T18:08:16.198Z"
   },
   {
    "duration": 52,
    "start_time": "2023-03-08T18:08:26.601Z"
   },
   {
    "duration": 4,
    "start_time": "2023-03-08T18:08:36.390Z"
   },
   {
    "duration": 3,
    "start_time": "2023-03-08T18:08:36.946Z"
   },
   {
    "duration": 3,
    "start_time": "2023-03-08T18:09:13.330Z"
   },
   {
    "duration": 1463,
    "start_time": "2023-03-08T18:09:14.490Z"
   },
   {
    "duration": 117,
    "start_time": "2023-03-08T18:09:17.228Z"
   },
   {
    "duration": 5,
    "start_time": "2023-03-08T18:09:17.690Z"
   },
   {
    "duration": 4,
    "start_time": "2023-03-08T18:09:18.594Z"
   },
   {
    "duration": 5,
    "start_time": "2023-03-08T18:09:28.259Z"
   },
   {
    "duration": 1319,
    "start_time": "2023-03-08T18:09:29.194Z"
   },
   {
    "duration": 107,
    "start_time": "2023-03-08T18:09:30.515Z"
   },
   {
    "duration": 5,
    "start_time": "2023-03-08T18:09:30.624Z"
   },
   {
    "duration": 16,
    "start_time": "2023-03-08T18:09:30.631Z"
   },
   {
    "duration": 15,
    "start_time": "2023-03-08T18:15:40.007Z"
   },
   {
    "duration": 16,
    "start_time": "2023-03-08T18:17:43.561Z"
   },
   {
    "duration": 4,
    "start_time": "2023-03-08T18:18:26.614Z"
   },
   {
    "duration": 2011,
    "start_time": "2023-03-08T18:18:47.282Z"
   },
   {
    "duration": 155,
    "start_time": "2023-03-08T18:19:03.444Z"
   },
   {
    "duration": 6,
    "start_time": "2023-03-08T18:19:12.923Z"
   },
   {
    "duration": 2612,
    "start_time": "2023-03-08T18:22:42.267Z"
   },
   {
    "duration": 2540,
    "start_time": "2023-03-08T18:23:36.508Z"
   },
   {
    "duration": 108,
    "start_time": "2023-03-08T18:24:29.805Z"
   },
   {
    "duration": 4,
    "start_time": "2023-03-08T18:24:54.713Z"
   },
   {
    "duration": 6,
    "start_time": "2023-03-08T18:25:04.550Z"
   },
   {
    "duration": 8,
    "start_time": "2023-03-08T18:26:28.225Z"
   },
   {
    "duration": 15,
    "start_time": "2023-03-08T18:26:35.207Z"
   },
   {
    "duration": 2661,
    "start_time": "2023-03-08T18:26:44.204Z"
   },
   {
    "duration": 100,
    "start_time": "2023-03-08T18:26:50.104Z"
   },
   {
    "duration": 5,
    "start_time": "2023-03-08T18:26:51.202Z"
   },
   {
    "duration": 7,
    "start_time": "2023-03-08T18:28:34.469Z"
   },
   {
    "duration": 5,
    "start_time": "2023-03-08T18:28:42.418Z"
   },
   {
    "duration": 1504,
    "start_time": "2023-03-08T18:29:17.226Z"
   },
   {
    "duration": 3,
    "start_time": "2023-03-08T18:29:18.733Z"
   },
   {
    "duration": 92,
    "start_time": "2023-03-08T18:29:18.738Z"
   },
   {
    "duration": 24,
    "start_time": "2023-03-08T18:29:18.832Z"
   },
   {
    "duration": 4,
    "start_time": "2023-03-08T18:29:18.865Z"
   },
   {
    "duration": 25,
    "start_time": "2023-03-08T18:29:18.873Z"
   },
   {
    "duration": 16,
    "start_time": "2023-03-08T18:29:18.899Z"
   },
   {
    "duration": 12,
    "start_time": "2023-03-08T18:29:18.916Z"
   },
   {
    "duration": 13,
    "start_time": "2023-03-08T18:29:18.929Z"
   },
   {
    "duration": 6,
    "start_time": "2023-03-08T18:29:18.944Z"
   },
   {
    "duration": 12,
    "start_time": "2023-03-08T18:29:18.957Z"
   },
   {
    "duration": 61,
    "start_time": "2023-03-08T18:29:18.971Z"
   },
   {
    "duration": 1804,
    "start_time": "2023-03-08T18:29:19.034Z"
   },
   {
    "duration": 17,
    "start_time": "2023-03-08T18:29:20.841Z"
   },
   {
    "duration": 26,
    "start_time": "2023-03-08T18:29:20.859Z"
   },
   {
    "duration": 5,
    "start_time": "2023-03-08T18:29:20.887Z"
   },
   {
    "duration": 14,
    "start_time": "2023-03-08T18:29:20.894Z"
   },
   {
    "duration": 16,
    "start_time": "2023-03-08T18:29:20.909Z"
   },
   {
    "duration": 7,
    "start_time": "2023-03-08T18:29:20.926Z"
   },
   {
    "duration": 9,
    "start_time": "2023-03-08T18:29:20.935Z"
   },
   {
    "duration": 9,
    "start_time": "2023-03-08T18:29:20.966Z"
   },
   {
    "duration": 15,
    "start_time": "2023-03-08T18:29:20.977Z"
   },
   {
    "duration": 1604,
    "start_time": "2023-03-08T18:29:20.993Z"
   },
   {
    "duration": 3,
    "start_time": "2023-03-08T18:29:22.599Z"
   },
   {
    "duration": 36861,
    "start_time": "2023-03-08T18:29:22.604Z"
   },
   {
    "duration": 9,
    "start_time": "2023-03-08T18:29:59.468Z"
   },
   {
    "duration": 19,
    "start_time": "2023-03-08T18:29:59.481Z"
   },
   {
    "duration": 1430,
    "start_time": "2023-03-08T18:29:59.502Z"
   },
   {
    "duration": 103,
    "start_time": "2023-03-08T18:30:00.934Z"
   },
   {
    "duration": 4,
    "start_time": "2023-03-08T18:30:01.039Z"
   },
   {
    "duration": 63,
    "start_time": "2023-03-08T18:30:01.045Z"
   },
   {
    "duration": 45,
    "start_time": "2023-03-08T18:30:01.110Z"
   },
   {
    "duration": 1516,
    "start_time": "2023-03-08T18:30:01.157Z"
   },
   {
    "duration": 105,
    "start_time": "2023-03-08T18:30:02.675Z"
   },
   {
    "duration": 5,
    "start_time": "2023-03-08T18:30:02.782Z"
   },
   {
    "duration": 19,
    "start_time": "2023-03-08T18:30:02.789Z"
   },
   {
    "duration": 85,
    "start_time": "2023-03-08T18:30:02.809Z"
   },
   {
    "duration": 11,
    "start_time": "2023-03-08T18:30:02.896Z"
   },
   {
    "duration": 23,
    "start_time": "2023-03-08T18:30:02.908Z"
   },
   {
    "duration": 2142,
    "start_time": "2023-03-08T18:30:02.933Z"
   },
   {
    "duration": 148,
    "start_time": "2023-03-08T18:30:05.079Z"
   },
   {
    "duration": 10,
    "start_time": "2023-03-08T18:30:05.229Z"
   },
   {
    "duration": 2799,
    "start_time": "2023-03-08T18:30:05.241Z"
   },
   {
    "duration": 125,
    "start_time": "2023-03-08T18:30:08.041Z"
   },
   {
    "duration": 8,
    "start_time": "2023-03-08T18:30:08.168Z"
   },
   {
    "duration": 7,
    "start_time": "2023-03-08T18:30:08.178Z"
   },
   {
    "duration": 5,
    "start_time": "2023-03-08T18:39:03.015Z"
   },
   {
    "duration": 3,
    "start_time": "2023-03-08T18:41:26.953Z"
   },
   {
    "duration": 5,
    "start_time": "2023-03-08T18:41:43.430Z"
   },
   {
    "duration": 3,
    "start_time": "2023-03-08T18:42:14.144Z"
   },
   {
    "duration": 5,
    "start_time": "2023-03-08T18:42:24.001Z"
   },
   {
    "duration": 119,
    "start_time": "2023-03-08T18:43:05.932Z"
   },
   {
    "duration": 3,
    "start_time": "2023-03-08T18:43:12.094Z"
   },
   {
    "duration": 5,
    "start_time": "2023-03-08T18:43:12.591Z"
   },
   {
    "duration": 5,
    "start_time": "2023-03-08T18:44:35.997Z"
   },
   {
    "duration": 6,
    "start_time": "2023-03-08T18:45:16.800Z"
   },
   {
    "duration": 3,
    "start_time": "2023-03-08T18:46:02.700Z"
   },
   {
    "duration": 5,
    "start_time": "2023-03-08T18:46:03.428Z"
   },
   {
    "duration": 4,
    "start_time": "2023-03-08T18:46:04.281Z"
   },
   {
    "duration": 6,
    "start_time": "2023-03-08T18:46:05.523Z"
   },
   {
    "duration": 7,
    "start_time": "2023-03-08T18:49:25.393Z"
   },
   {
    "duration": 6,
    "start_time": "2023-03-08T18:49:40.219Z"
   },
   {
    "duration": 4,
    "start_time": "2023-03-08T18:57:21.204Z"
   },
   {
    "duration": 1392,
    "start_time": "2023-03-08T18:58:51.333Z"
   },
   {
    "duration": 3,
    "start_time": "2023-03-08T18:58:52.726Z"
   },
   {
    "duration": 55,
    "start_time": "2023-03-08T18:58:52.731Z"
   },
   {
    "duration": 15,
    "start_time": "2023-03-08T18:58:52.788Z"
   },
   {
    "duration": 4,
    "start_time": "2023-03-08T18:58:52.806Z"
   },
   {
    "duration": 5,
    "start_time": "2023-03-08T18:58:52.812Z"
   },
   {
    "duration": 12,
    "start_time": "2023-03-08T18:58:52.819Z"
   },
   {
    "duration": 10,
    "start_time": "2023-03-08T18:58:52.833Z"
   },
   {
    "duration": 10,
    "start_time": "2023-03-08T18:58:52.866Z"
   },
   {
    "duration": 5,
    "start_time": "2023-03-08T18:58:52.878Z"
   },
   {
    "duration": 6,
    "start_time": "2023-03-08T18:58:52.885Z"
   },
   {
    "duration": 35,
    "start_time": "2023-03-08T18:58:52.894Z"
   },
   {
    "duration": 1868,
    "start_time": "2023-03-08T18:58:52.931Z"
   },
   {
    "duration": 7,
    "start_time": "2023-03-08T18:58:54.803Z"
   },
   {
    "duration": 9,
    "start_time": "2023-03-08T18:58:54.811Z"
   },
   {
    "duration": 5,
    "start_time": "2023-03-08T18:58:54.822Z"
   },
   {
    "duration": 12,
    "start_time": "2023-03-08T18:58:54.828Z"
   },
   {
    "duration": 34,
    "start_time": "2023-03-08T18:58:54.841Z"
   },
   {
    "duration": 7,
    "start_time": "2023-03-08T18:58:54.876Z"
   },
   {
    "duration": 9,
    "start_time": "2023-03-08T18:58:54.884Z"
   },
   {
    "duration": 6,
    "start_time": "2023-03-08T18:58:54.895Z"
   },
   {
    "duration": 8,
    "start_time": "2023-03-08T18:58:54.903Z"
   },
   {
    "duration": 1646,
    "start_time": "2023-03-08T18:58:54.913Z"
   },
   {
    "duration": 6,
    "start_time": "2023-03-08T18:58:56.561Z"
   },
   {
    "duration": 35419,
    "start_time": "2023-03-08T18:58:56.569Z"
   },
   {
    "duration": 3,
    "start_time": "2023-03-08T18:59:31.989Z"
   },
   {
    "duration": 33,
    "start_time": "2023-03-08T18:59:31.993Z"
   },
   {
    "duration": 1346,
    "start_time": "2023-03-08T18:59:32.027Z"
   },
   {
    "duration": 100,
    "start_time": "2023-03-08T18:59:33.375Z"
   },
   {
    "duration": 5,
    "start_time": "2023-03-08T18:59:33.477Z"
   },
   {
    "duration": 12,
    "start_time": "2023-03-08T18:59:33.484Z"
   },
   {
    "duration": 14,
    "start_time": "2023-03-08T18:59:33.498Z"
   },
   {
    "duration": 1395,
    "start_time": "2023-03-08T18:59:33.515Z"
   },
   {
    "duration": 100,
    "start_time": "2023-03-08T18:59:34.912Z"
   },
   {
    "duration": 6,
    "start_time": "2023-03-08T18:59:35.014Z"
   },
   {
    "duration": 7,
    "start_time": "2023-03-08T18:59:35.022Z"
   },
   {
    "duration": 32,
    "start_time": "2023-03-08T18:59:35.030Z"
   },
   {
    "duration": 14,
    "start_time": "2023-03-08T18:59:35.064Z"
   },
   {
    "duration": 9,
    "start_time": "2023-03-08T18:59:35.080Z"
   },
   {
    "duration": 1983,
    "start_time": "2023-03-08T18:59:35.090Z"
   },
   {
    "duration": 144,
    "start_time": "2023-03-08T18:59:37.077Z"
   },
   {
    "duration": 6,
    "start_time": "2023-03-08T18:59:37.222Z"
   },
   {
    "duration": 8,
    "start_time": "2023-03-08T18:59:37.229Z"
   },
   {
    "duration": 11,
    "start_time": "2023-03-08T18:59:37.239Z"
   },
   {
    "duration": 16,
    "start_time": "2023-03-08T18:59:37.252Z"
   },
   {
    "duration": 10,
    "start_time": "2023-03-08T18:59:37.270Z"
   },
   {
    "duration": 6,
    "start_time": "2023-03-08T18:59:37.283Z"
   },
   {
    "duration": 2349,
    "start_time": "2023-03-08T18:59:37.290Z"
   },
   {
    "duration": 112,
    "start_time": "2023-03-08T18:59:39.641Z"
   },
   {
    "duration": 13,
    "start_time": "2023-03-08T18:59:39.755Z"
   },
   {
    "duration": 7,
    "start_time": "2023-03-08T18:59:39.770Z"
   },
   {
    "duration": 1357,
    "start_time": "2023-03-09T09:02:37.256Z"
   },
   {
    "duration": 3,
    "start_time": "2023-03-09T09:02:38.615Z"
   },
   {
    "duration": 47,
    "start_time": "2023-03-09T09:02:38.620Z"
   },
   {
    "duration": 16,
    "start_time": "2023-03-09T09:02:38.669Z"
   },
   {
    "duration": 4,
    "start_time": "2023-03-09T09:02:38.687Z"
   },
   {
    "duration": 4,
    "start_time": "2023-03-09T09:02:38.693Z"
   },
   {
    "duration": 12,
    "start_time": "2023-03-09T09:02:38.699Z"
   },
   {
    "duration": 10,
    "start_time": "2023-03-09T09:02:38.712Z"
   },
   {
    "duration": 35,
    "start_time": "2023-03-09T09:02:38.724Z"
   },
   {
    "duration": 4,
    "start_time": "2023-03-09T09:02:38.761Z"
   },
   {
    "duration": 5,
    "start_time": "2023-03-09T09:02:38.767Z"
   },
   {
    "duration": 30,
    "start_time": "2023-03-09T09:02:38.774Z"
   },
   {
    "duration": 1482,
    "start_time": "2023-03-09T09:02:38.805Z"
   },
   {
    "duration": 7,
    "start_time": "2023-03-09T09:02:40.290Z"
   },
   {
    "duration": 8,
    "start_time": "2023-03-09T09:02:40.299Z"
   },
   {
    "duration": 5,
    "start_time": "2023-03-09T09:02:40.309Z"
   },
   {
    "duration": 40,
    "start_time": "2023-03-09T09:02:40.315Z"
   },
   {
    "duration": 16,
    "start_time": "2023-03-09T09:02:40.357Z"
   },
   {
    "duration": 7,
    "start_time": "2023-03-09T09:02:40.374Z"
   },
   {
    "duration": 8,
    "start_time": "2023-03-09T09:02:40.382Z"
   },
   {
    "duration": 6,
    "start_time": "2023-03-09T09:02:40.391Z"
   },
   {
    "duration": 6,
    "start_time": "2023-03-09T09:02:40.399Z"
   },
   {
    "duration": 1581,
    "start_time": "2023-03-09T09:02:40.406Z"
   },
   {
    "duration": 3,
    "start_time": "2023-03-09T09:02:41.989Z"
   },
   {
    "duration": 37947,
    "start_time": "2023-03-09T09:02:41.994Z"
   },
   {
    "duration": 3,
    "start_time": "2023-03-09T09:03:19.943Z"
   },
   {
    "duration": 10,
    "start_time": "2023-03-09T09:03:19.947Z"
   },
   {
    "duration": 1384,
    "start_time": "2023-03-09T09:03:19.958Z"
   },
   {
    "duration": 84,
    "start_time": "2023-03-09T09:03:21.344Z"
   },
   {
    "duration": 4,
    "start_time": "2023-03-09T09:03:21.430Z"
   },
   {
    "duration": 2,
    "start_time": "2023-03-09T09:03:21.436Z"
   },
   {
    "duration": 2,
    "start_time": "2023-03-09T09:03:21.441Z"
   },
   {
    "duration": 1377,
    "start_time": "2023-03-09T09:03:21.455Z"
   },
   {
    "duration": 88,
    "start_time": "2023-03-09T09:03:22.833Z"
   },
   {
    "duration": 4,
    "start_time": "2023-03-09T09:03:22.923Z"
   },
   {
    "duration": 3,
    "start_time": "2023-03-09T09:03:22.928Z"
   },
   {
    "duration": 28,
    "start_time": "2023-03-09T09:03:22.932Z"
   },
   {
    "duration": 8,
    "start_time": "2023-03-09T09:03:22.961Z"
   },
   {
    "duration": 16,
    "start_time": "2023-03-09T09:03:22.970Z"
   },
   {
    "duration": 2008,
    "start_time": "2023-03-09T09:03:22.987Z"
   },
   {
    "duration": 138,
    "start_time": "2023-03-09T09:03:24.998Z"
   },
   {
    "duration": 5,
    "start_time": "2023-03-09T09:03:25.138Z"
   },
   {
    "duration": 11,
    "start_time": "2023-03-09T09:03:25.144Z"
   },
   {
    "duration": 11,
    "start_time": "2023-03-09T09:03:25.156Z"
   },
   {
    "duration": 6,
    "start_time": "2023-03-09T09:03:25.168Z"
   },
   {
    "duration": 8,
    "start_time": "2023-03-09T09:03:25.175Z"
   },
   {
    "duration": 4,
    "start_time": "2023-03-09T09:03:25.185Z"
   },
   {
    "duration": 2597,
    "start_time": "2023-03-09T09:03:25.190Z"
   },
   {
    "duration": 95,
    "start_time": "2023-03-09T09:03:27.788Z"
   },
   {
    "duration": 4,
    "start_time": "2023-03-09T09:03:27.885Z"
   },
   {
    "duration": 5,
    "start_time": "2023-03-09T09:03:27.891Z"
   },
   {
    "duration": 8,
    "start_time": "2023-03-09T09:22:31.832Z"
   },
   {
    "duration": 202,
    "start_time": "2023-03-21T08:10:44.165Z"
   },
   {
    "duration": 1534,
    "start_time": "2023-03-21T08:10:49.700Z"
   },
   {
    "duration": 3,
    "start_time": "2023-03-21T08:10:54.631Z"
   },
   {
    "duration": 86,
    "start_time": "2023-03-21T08:10:59.933Z"
   },
   {
    "duration": 18,
    "start_time": "2023-03-21T08:11:05.918Z"
   },
   {
    "duration": 4,
    "start_time": "2023-03-21T08:11:12.145Z"
   },
   {
    "duration": 4,
    "start_time": "2023-03-21T08:11:16.026Z"
   },
   {
    "duration": 15,
    "start_time": "2023-03-21T08:12:05.913Z"
   },
   {
    "duration": 8,
    "start_time": "2023-03-21T08:12:08.348Z"
   },
   {
    "duration": 5,
    "start_time": "2023-03-21T08:12:09.104Z"
   },
   {
    "duration": 4,
    "start_time": "2023-03-21T08:12:09.723Z"
   },
   {
    "duration": 34,
    "start_time": "2023-03-21T08:12:37.040Z"
   },
   {
    "duration": 1298,
    "start_time": "2023-03-21T08:14:57.480Z"
   },
   {
    "duration": 11,
    "start_time": "2023-03-21T08:16:42.427Z"
   },
   {
    "duration": 7,
    "start_time": "2023-03-21T08:16:49.714Z"
   },
   {
    "duration": 6,
    "start_time": "2023-03-21T08:17:01.842Z"
   },
   {
    "duration": 10,
    "start_time": "2023-03-21T08:20:46.880Z"
   },
   {
    "duration": 1636,
    "start_time": "2023-03-23T14:09:29.829Z"
   },
   {
    "duration": 3,
    "start_time": "2023-03-23T14:09:31.467Z"
   },
   {
    "duration": 187,
    "start_time": "2023-03-23T14:09:32.587Z"
   },
   {
    "duration": 21,
    "start_time": "2023-03-23T14:09:32.926Z"
   },
   {
    "duration": 4,
    "start_time": "2023-03-23T14:09:34.118Z"
   },
   {
    "duration": 4,
    "start_time": "2023-03-23T14:09:35.581Z"
   },
   {
    "duration": 12,
    "start_time": "2023-03-23T14:09:36.233Z"
   },
   {
    "duration": 10,
    "start_time": "2023-03-23T14:09:36.776Z"
   },
   {
    "duration": 5,
    "start_time": "2023-03-23T14:09:37.494Z"
   },
   {
    "duration": 5,
    "start_time": "2023-03-23T14:09:37.841Z"
   },
   {
    "duration": 49,
    "start_time": "2023-03-23T14:09:38.227Z"
   },
   {
    "duration": 1716,
    "start_time": "2023-03-23T14:09:39.397Z"
   },
   {
    "duration": 7,
    "start_time": "2023-03-23T14:09:41.115Z"
   },
   {
    "duration": 7,
    "start_time": "2023-03-23T14:09:46.007Z"
   },
   {
    "duration": 5,
    "start_time": "2023-03-23T14:09:52.937Z"
   },
   {
    "duration": 1385,
    "start_time": "2023-03-23T15:36:48.765Z"
   },
   {
    "duration": 3,
    "start_time": "2023-03-23T15:36:50.152Z"
   },
   {
    "duration": 89,
    "start_time": "2023-03-23T15:36:50.156Z"
   },
   {
    "duration": 13,
    "start_time": "2023-03-23T15:36:50.247Z"
   },
   {
    "duration": 3,
    "start_time": "2023-03-23T15:36:50.263Z"
   },
   {
    "duration": 15,
    "start_time": "2023-03-23T15:36:50.268Z"
   },
   {
    "duration": 17,
    "start_time": "2023-03-23T15:36:50.284Z"
   },
   {
    "duration": 19,
    "start_time": "2023-03-23T15:36:50.302Z"
   },
   {
    "duration": 4,
    "start_time": "2023-03-23T15:36:50.322Z"
   },
   {
    "duration": 13,
    "start_time": "2023-03-23T15:36:50.327Z"
   },
   {
    "duration": 39,
    "start_time": "2023-03-23T15:36:50.342Z"
   },
   {
    "duration": 1285,
    "start_time": "2023-03-23T15:36:50.382Z"
   },
   {
    "duration": 17,
    "start_time": "2023-03-23T15:36:51.669Z"
   },
   {
    "duration": 8,
    "start_time": "2023-03-23T15:36:51.689Z"
   },
   {
    "duration": 7,
    "start_time": "2023-03-23T15:36:51.699Z"
   },
   {
    "duration": 4,
    "start_time": "2023-03-23T15:37:54.153Z"
   },
   {
    "duration": 8,
    "start_time": "2023-03-23T15:39:04.234Z"
   },
   {
    "duration": 172,
    "start_time": "2023-03-23T15:40:06.194Z"
   },
   {
    "duration": 10,
    "start_time": "2023-03-23T15:43:00.166Z"
   },
   {
    "duration": 4,
    "start_time": "2023-03-23T15:43:10.502Z"
   },
   {
    "duration": 5,
    "start_time": "2023-03-23T15:43:30.227Z"
   },
   {
    "duration": 13,
    "start_time": "2023-03-23T15:43:47.211Z"
   },
   {
    "duration": 9,
    "start_time": "2023-03-23T15:44:05.685Z"
   },
   {
    "duration": 9,
    "start_time": "2023-03-23T15:44:20.602Z"
   },
   {
    "duration": 5,
    "start_time": "2023-03-23T15:44:25.253Z"
   },
   {
    "duration": 4,
    "start_time": "2023-03-23T15:44:31.453Z"
   },
   {
    "duration": 9,
    "start_time": "2023-03-23T15:45:09.342Z"
   },
   {
    "duration": 4,
    "start_time": "2023-03-23T15:45:14.458Z"
   },
   {
    "duration": 3,
    "start_time": "2023-03-23T15:45:43.701Z"
   },
   {
    "duration": 7,
    "start_time": "2023-03-23T15:46:44.105Z"
   },
   {
    "duration": 9,
    "start_time": "2023-03-23T15:46:46.661Z"
   },
   {
    "duration": 107,
    "start_time": "2023-03-23T15:48:31.767Z"
   },
   {
    "duration": 7,
    "start_time": "2023-03-23T15:48:46.396Z"
   },
   {
    "duration": 1215,
    "start_time": "2023-03-23T16:10:07.409Z"
   },
   {
    "duration": 3,
    "start_time": "2023-03-23T16:10:08.626Z"
   },
   {
    "duration": 45,
    "start_time": "2023-03-23T16:10:08.630Z"
   },
   {
    "duration": 14,
    "start_time": "2023-03-23T16:10:08.677Z"
   },
   {
    "duration": 4,
    "start_time": "2023-03-23T16:10:08.694Z"
   },
   {
    "duration": 6,
    "start_time": "2023-03-23T16:10:08.700Z"
   },
   {
    "duration": 12,
    "start_time": "2023-03-23T16:10:08.707Z"
   },
   {
    "duration": 9,
    "start_time": "2023-03-23T16:10:08.721Z"
   },
   {
    "duration": 5,
    "start_time": "2023-03-23T16:10:08.731Z"
   },
   {
    "duration": 5,
    "start_time": "2023-03-23T16:10:08.737Z"
   },
   {
    "duration": 79,
    "start_time": "2023-03-23T16:10:08.743Z"
   },
   {
    "duration": 1281,
    "start_time": "2023-03-23T16:10:08.823Z"
   },
   {
    "duration": 8,
    "start_time": "2023-03-23T16:10:10.106Z"
   },
   {
    "duration": 6,
    "start_time": "2023-03-23T16:10:10.117Z"
   },
   {
    "duration": 5,
    "start_time": "2023-03-23T16:10:10.124Z"
   },
   {
    "duration": 4,
    "start_time": "2023-03-23T16:10:10.130Z"
   },
   {
    "duration": 5,
    "start_time": "2023-03-23T16:10:10.136Z"
   },
   {
    "duration": 6,
    "start_time": "2023-03-23T16:10:10.143Z"
   },
   {
    "duration": 8,
    "start_time": "2023-03-23T16:10:10.151Z"
   },
   {
    "duration": 26,
    "start_time": "2023-03-23T16:10:10.160Z"
   },
   {
    "duration": 5,
    "start_time": "2023-03-23T16:10:10.188Z"
   },
   {
    "duration": 74,
    "start_time": "2023-03-23T16:10:10.195Z"
   },
   {
    "duration": 0,
    "start_time": "2023-03-23T16:10:10.271Z"
   },
   {
    "duration": 0,
    "start_time": "2023-03-23T16:10:10.272Z"
   },
   {
    "duration": 0,
    "start_time": "2023-03-23T16:10:10.273Z"
   },
   {
    "duration": 0,
    "start_time": "2023-03-23T16:10:10.275Z"
   },
   {
    "duration": 0,
    "start_time": "2023-03-23T16:10:10.276Z"
   },
   {
    "duration": 0,
    "start_time": "2023-03-23T16:10:10.277Z"
   },
   {
    "duration": 3,
    "start_time": "2023-03-23T16:10:32.307Z"
   },
   {
    "duration": 9,
    "start_time": "2023-03-23T16:10:33.778Z"
   },
   {
    "duration": 4,
    "start_time": "2023-03-23T16:10:34.834Z"
   },
   {
    "duration": 3,
    "start_time": "2023-03-23T16:10:35.817Z"
   },
   {
    "duration": 8,
    "start_time": "2023-03-23T16:10:36.637Z"
   },
   {
    "duration": 9,
    "start_time": "2023-03-23T16:10:37.285Z"
   },
   {
    "duration": 6,
    "start_time": "2023-03-23T16:10:43.639Z"
   },
   {
    "duration": 6,
    "start_time": "2023-03-23T16:10:48.125Z"
   },
   {
    "duration": 4,
    "start_time": "2023-03-23T16:23:22.825Z"
   },
   {
    "duration": 107,
    "start_time": "2023-03-23T16:26:58.867Z"
   },
   {
    "duration": 10,
    "start_time": "2023-03-23T16:27:10.147Z"
   },
   {
    "duration": 10,
    "start_time": "2023-03-23T16:28:09.266Z"
   },
   {
    "duration": 4,
    "start_time": "2023-03-23T16:29:08.720Z"
   },
   {
    "duration": 4,
    "start_time": "2023-03-23T19:15:53.779Z"
   },
   {
    "duration": 3,
    "start_time": "2023-03-23T19:18:11.551Z"
   },
   {
    "duration": 14,
    "start_time": "2023-03-23T19:20:52.098Z"
   },
   {
    "duration": 8912,
    "start_time": "2023-03-23T19:26:10.838Z"
   },
   {
    "duration": 1852,
    "start_time": "2023-03-23T19:26:32.822Z"
   },
   {
    "duration": 1124,
    "start_time": "2023-03-23T19:26:34.676Z"
   },
   {
    "duration": 3,
    "start_time": "2023-03-23T19:26:35.801Z"
   },
   {
    "duration": 42,
    "start_time": "2023-03-23T19:26:35.806Z"
   },
   {
    "duration": 15,
    "start_time": "2023-03-23T19:26:35.849Z"
   },
   {
    "duration": 4,
    "start_time": "2023-03-23T19:26:35.865Z"
   },
   {
    "duration": 7,
    "start_time": "2023-03-23T19:26:35.870Z"
   },
   {
    "duration": 27,
    "start_time": "2023-03-23T19:26:35.878Z"
   },
   {
    "duration": 8,
    "start_time": "2023-03-23T19:26:35.907Z"
   },
   {
    "duration": 4,
    "start_time": "2023-03-23T19:26:35.918Z"
   },
   {
    "duration": 6,
    "start_time": "2023-03-23T19:26:35.923Z"
   },
   {
    "duration": 37,
    "start_time": "2023-03-23T19:26:35.931Z"
   },
   {
    "duration": 1329,
    "start_time": "2023-03-23T19:26:35.970Z"
   },
   {
    "duration": 7,
    "start_time": "2023-03-23T19:26:37.301Z"
   },
   {
    "duration": 5,
    "start_time": "2023-03-23T19:26:37.309Z"
   },
   {
    "duration": 5,
    "start_time": "2023-03-23T19:26:37.315Z"
   },
   {
    "duration": 3,
    "start_time": "2023-03-23T19:26:37.321Z"
   },
   {
    "duration": 9,
    "start_time": "2023-03-23T19:26:37.326Z"
   },
   {
    "duration": 8,
    "start_time": "2023-03-23T19:26:37.336Z"
   },
   {
    "duration": 9,
    "start_time": "2023-03-23T19:26:37.345Z"
   },
   {
    "duration": 6,
    "start_time": "2023-03-23T19:26:37.355Z"
   },
   {
    "duration": 10,
    "start_time": "2023-03-23T19:26:37.363Z"
   },
   {
    "duration": 30,
    "start_time": "2023-03-23T19:26:37.374Z"
   },
   {
    "duration": 10,
    "start_time": "2023-03-23T19:26:37.405Z"
   },
   {
    "duration": 9,
    "start_time": "2023-03-23T19:26:37.416Z"
   },
   {
    "duration": 10,
    "start_time": "2023-03-23T19:26:37.426Z"
   },
   {
    "duration": 9,
    "start_time": "2023-03-23T19:26:37.437Z"
   },
   {
    "duration": 8,
    "start_time": "2023-03-23T19:26:37.449Z"
   },
   {
    "duration": 6,
    "start_time": "2023-03-23T19:26:37.459Z"
   },
   {
    "duration": 6,
    "start_time": "2023-03-23T19:26:37.466Z"
   },
   {
    "duration": 8,
    "start_time": "2023-03-23T19:26:37.474Z"
   },
   {
    "duration": 22,
    "start_time": "2023-03-23T19:26:37.483Z"
   },
   {
    "duration": 10,
    "start_time": "2023-03-23T19:26:37.506Z"
   },
   {
    "duration": 112,
    "start_time": "2023-03-23T19:26:37.518Z"
   },
   {
    "duration": 0,
    "start_time": "2023-03-23T19:26:37.632Z"
   },
   {
    "duration": 0,
    "start_time": "2023-03-23T19:26:37.632Z"
   },
   {
    "duration": 0,
    "start_time": "2023-03-23T19:26:37.633Z"
   },
   {
    "duration": 0,
    "start_time": "2023-03-23T19:26:37.635Z"
   },
   {
    "duration": 0,
    "start_time": "2023-03-23T19:26:37.635Z"
   },
   {
    "duration": 0,
    "start_time": "2023-03-23T19:26:37.636Z"
   },
   {
    "duration": 0,
    "start_time": "2023-03-23T19:26:37.637Z"
   },
   {
    "duration": 0,
    "start_time": "2023-03-23T19:26:37.638Z"
   },
   {
    "duration": 0,
    "start_time": "2023-03-23T19:26:37.638Z"
   },
   {
    "duration": 0,
    "start_time": "2023-03-23T19:26:37.639Z"
   },
   {
    "duration": 0,
    "start_time": "2023-03-23T19:26:37.640Z"
   },
   {
    "duration": 0,
    "start_time": "2023-03-23T19:26:37.641Z"
   },
   {
    "duration": 0,
    "start_time": "2023-03-23T19:26:37.642Z"
   },
   {
    "duration": 0,
    "start_time": "2023-03-23T19:26:37.643Z"
   },
   {
    "duration": 0,
    "start_time": "2023-03-23T19:26:37.644Z"
   },
   {
    "duration": 0,
    "start_time": "2023-03-23T19:26:37.645Z"
   },
   {
    "duration": 0,
    "start_time": "2023-03-23T19:26:37.646Z"
   },
   {
    "duration": 0,
    "start_time": "2023-03-23T19:26:37.647Z"
   },
   {
    "duration": 0,
    "start_time": "2023-03-23T19:26:37.648Z"
   },
   {
    "duration": 0,
    "start_time": "2023-03-23T19:26:37.648Z"
   },
   {
    "duration": 0,
    "start_time": "2023-03-23T19:26:37.649Z"
   },
   {
    "duration": 0,
    "start_time": "2023-03-23T19:26:37.650Z"
   },
   {
    "duration": 0,
    "start_time": "2023-03-23T19:26:37.650Z"
   },
   {
    "duration": 0,
    "start_time": "2023-03-23T19:26:37.651Z"
   },
   {
    "duration": 0,
    "start_time": "2023-03-23T19:26:37.652Z"
   },
   {
    "duration": 0,
    "start_time": "2023-03-23T19:26:37.653Z"
   },
   {
    "duration": 0,
    "start_time": "2023-03-23T19:26:37.653Z"
   },
   {
    "duration": 0,
    "start_time": "2023-03-23T19:26:37.654Z"
   },
   {
    "duration": 4,
    "start_time": "2023-03-23T19:28:29.145Z"
   },
   {
    "duration": 12,
    "start_time": "2023-03-23T19:32:06.003Z"
   },
   {
    "duration": 13,
    "start_time": "2023-03-23T19:32:21.096Z"
   },
   {
    "duration": 3,
    "start_time": "2023-03-23T19:33:37.625Z"
   },
   {
    "duration": 13,
    "start_time": "2023-03-23T19:33:47.413Z"
   },
   {
    "duration": 2,
    "start_time": "2023-03-23T19:57:04.793Z"
   },
   {
    "duration": 7,
    "start_time": "2023-03-23T19:57:38.217Z"
   },
   {
    "duration": 91,
    "start_time": "2023-03-23T19:58:40.315Z"
   },
   {
    "duration": 12,
    "start_time": "2023-03-23T19:58:46.111Z"
   },
   {
    "duration": 10,
    "start_time": "2023-03-23T19:58:55.943Z"
   },
   {
    "duration": 4,
    "start_time": "2023-03-24T11:41:33.848Z"
   },
   {
    "duration": 1829,
    "start_time": "2023-03-24T11:41:33.854Z"
   },
   {
    "duration": 3,
    "start_time": "2023-03-24T11:41:35.685Z"
   },
   {
    "duration": 219,
    "start_time": "2023-03-24T11:41:35.700Z"
   },
   {
    "duration": 22,
    "start_time": "2023-03-24T11:41:35.922Z"
   },
   {
    "duration": 24,
    "start_time": "2023-03-24T11:41:35.946Z"
   },
   {
    "duration": 36,
    "start_time": "2023-03-24T11:41:35.973Z"
   },
   {
    "duration": 18,
    "start_time": "2023-03-24T11:41:36.014Z"
   },
   {
    "duration": 31,
    "start_time": "2023-03-24T11:41:36.034Z"
   },
   {
    "duration": 44,
    "start_time": "2023-03-24T11:41:36.067Z"
   },
   {
    "duration": 8,
    "start_time": "2023-03-24T11:41:36.112Z"
   },
   {
    "duration": 95,
    "start_time": "2023-03-24T11:41:36.122Z"
   },
   {
    "duration": 2029,
    "start_time": "2023-03-24T11:41:36.221Z"
   },
   {
    "duration": 9,
    "start_time": "2023-03-24T11:41:38.253Z"
   },
   {
    "duration": 13,
    "start_time": "2023-03-24T11:41:38.263Z"
   },
   {
    "duration": 9,
    "start_time": "2023-03-24T11:41:38.292Z"
   },
   {
    "duration": 11,
    "start_time": "2023-03-24T11:41:38.309Z"
   },
   {
    "duration": 9,
    "start_time": "2023-03-24T11:41:38.322Z"
   },
   {
    "duration": 25,
    "start_time": "2023-03-24T11:41:38.333Z"
   },
   {
    "duration": 12,
    "start_time": "2023-03-24T11:41:38.360Z"
   },
   {
    "duration": 13,
    "start_time": "2023-03-24T11:41:38.374Z"
   },
   {
    "duration": 24,
    "start_time": "2023-03-24T11:41:38.389Z"
   },
   {
    "duration": 16,
    "start_time": "2023-03-24T11:41:38.415Z"
   },
   {
    "duration": 17,
    "start_time": "2023-03-24T11:41:38.433Z"
   },
   {
    "duration": 5,
    "start_time": "2023-03-24T11:41:38.453Z"
   },
   {
    "duration": 12,
    "start_time": "2023-03-24T11:41:38.460Z"
   },
   {
    "duration": 13,
    "start_time": "2023-03-24T11:41:38.474Z"
   },
   {
    "duration": 39,
    "start_time": "2023-03-24T11:41:38.489Z"
   },
   {
    "duration": 8,
    "start_time": "2023-03-24T11:41:38.530Z"
   },
   {
    "duration": 128,
    "start_time": "2023-03-24T11:43:38.939Z"
   },
   {
    "duration": 4,
    "start_time": "2023-03-24T11:43:47.837Z"
   },
   {
    "duration": 10,
    "start_time": "2023-03-24T11:46:04.922Z"
   },
   {
    "duration": 7,
    "start_time": "2023-03-24T11:47:16.226Z"
   },
   {
    "duration": 4,
    "start_time": "2023-03-24T11:47:54.334Z"
   },
   {
    "duration": 4,
    "start_time": "2023-03-24T11:48:05.084Z"
   },
   {
    "duration": 14,
    "start_time": "2023-03-24T11:48:23.434Z"
   },
   {
    "duration": 9613,
    "start_time": "2023-03-24T11:48:33.908Z"
   },
   {
    "duration": 28,
    "start_time": "2023-03-24T11:49:01.948Z"
   },
   {
    "duration": 2551,
    "start_time": "2023-03-24T11:49:19.577Z"
   },
   {
    "duration": 1260,
    "start_time": "2023-03-24T11:49:22.130Z"
   },
   {
    "duration": 3,
    "start_time": "2023-03-24T11:49:23.393Z"
   },
   {
    "duration": 123,
    "start_time": "2023-03-24T11:49:23.398Z"
   },
   {
    "duration": 19,
    "start_time": "2023-03-24T11:49:23.524Z"
   },
   {
    "duration": 26,
    "start_time": "2023-03-24T11:49:23.545Z"
   },
   {
    "duration": 41,
    "start_time": "2023-03-24T11:49:23.573Z"
   },
   {
    "duration": 27,
    "start_time": "2023-03-24T11:49:23.619Z"
   },
   {
    "duration": 39,
    "start_time": "2023-03-24T11:49:23.648Z"
   },
   {
    "duration": 21,
    "start_time": "2023-03-24T11:49:23.690Z"
   },
   {
    "duration": 37,
    "start_time": "2023-03-24T11:49:23.713Z"
   },
   {
    "duration": 66,
    "start_time": "2023-03-24T11:49:23.752Z"
   },
   {
    "duration": 1867,
    "start_time": "2023-03-24T11:49:23.819Z"
   },
   {
    "duration": 17,
    "start_time": "2023-03-24T11:49:25.689Z"
   },
   {
    "duration": 8,
    "start_time": "2023-03-24T11:49:25.715Z"
   },
   {
    "duration": 17,
    "start_time": "2023-03-24T11:49:25.725Z"
   },
   {
    "duration": 20,
    "start_time": "2023-03-24T11:49:25.744Z"
   },
   {
    "duration": 20,
    "start_time": "2023-03-24T11:49:25.766Z"
   },
   {
    "duration": 4,
    "start_time": "2023-03-24T11:49:25.789Z"
   },
   {
    "duration": 17,
    "start_time": "2023-03-24T11:49:25.795Z"
   },
   {
    "duration": 18,
    "start_time": "2023-03-24T11:49:25.817Z"
   },
   {
    "duration": 8,
    "start_time": "2023-03-24T11:49:25.837Z"
   },
   {
    "duration": 9,
    "start_time": "2023-03-24T11:49:25.847Z"
   },
   {
    "duration": 41,
    "start_time": "2023-03-24T11:49:25.859Z"
   },
   {
    "duration": 6,
    "start_time": "2023-03-24T11:49:25.903Z"
   },
   {
    "duration": 15,
    "start_time": "2023-03-24T11:49:25.914Z"
   },
   {
    "duration": 11,
    "start_time": "2023-03-24T11:49:25.931Z"
   },
   {
    "duration": 18,
    "start_time": "2023-03-24T11:49:25.944Z"
   },
   {
    "duration": 9,
    "start_time": "2023-03-24T11:49:25.964Z"
   },
   {
    "duration": 20,
    "start_time": "2023-03-24T11:49:25.990Z"
   },
   {
    "duration": 26,
    "start_time": "2023-03-24T11:49:26.011Z"
   },
   {
    "duration": 6,
    "start_time": "2023-03-24T11:49:26.039Z"
   },
   {
    "duration": 11,
    "start_time": "2023-03-24T11:49:26.047Z"
   },
   {
    "duration": 13,
    "start_time": "2023-03-24T11:50:24.350Z"
   },
   {
    "duration": 4,
    "start_time": "2023-03-24T11:50:25.372Z"
   },
   {
    "duration": 139,
    "start_time": "2023-03-24T11:50:33.871Z"
   },
   {
    "duration": 5,
    "start_time": "2023-03-24T11:50:51.923Z"
   },
   {
    "duration": 22,
    "start_time": "2023-03-24T11:50:58.542Z"
   },
   {
    "duration": 6,
    "start_time": "2023-03-24T11:50:59.064Z"
   },
   {
    "duration": 3,
    "start_time": "2023-03-24T11:51:03.952Z"
   },
   {
    "duration": 18,
    "start_time": "2023-03-24T11:51:15.475Z"
   },
   {
    "duration": 19,
    "start_time": "2023-03-24T11:51:20.883Z"
   },
   {
    "duration": 13,
    "start_time": "2023-03-24T11:59:21.524Z"
   },
   {
    "duration": 16,
    "start_time": "2023-03-24T11:59:39.063Z"
   },
   {
    "duration": 11,
    "start_time": "2023-03-24T12:08:45.335Z"
   },
   {
    "duration": 2,
    "start_time": "2023-03-24T12:08:49.336Z"
   },
   {
    "duration": 20,
    "start_time": "2023-03-24T12:08:49.942Z"
   },
   {
    "duration": 13,
    "start_time": "2023-03-24T12:10:06.661Z"
   },
   {
    "duration": 10,
    "start_time": "2023-03-24T12:10:34.870Z"
   },
   {
    "duration": 5,
    "start_time": "2023-03-24T12:10:44.568Z"
   },
   {
    "duration": 6,
    "start_time": "2023-03-24T12:19:16.145Z"
   },
   {
    "duration": 5,
    "start_time": "2023-03-24T12:19:21.654Z"
   },
   {
    "duration": 3,
    "start_time": "2023-03-24T12:19:30.557Z"
   },
   {
    "duration": 13,
    "start_time": "2023-03-24T12:20:26.040Z"
   },
   {
    "duration": 4,
    "start_time": "2023-03-24T12:20:48.844Z"
   },
   {
    "duration": 10,
    "start_time": "2023-03-24T12:25:42.688Z"
   },
   {
    "duration": 3,
    "start_time": "2023-03-24T12:26:31.579Z"
   },
   {
    "duration": 3,
    "start_time": "2023-03-24T12:46:21.807Z"
   },
   {
    "duration": 3,
    "start_time": "2023-03-24T13:43:23.626Z"
   },
   {
    "duration": 46,
    "start_time": "2023-03-24T13:43:27.943Z"
   },
   {
    "duration": 86270,
    "start_time": "2023-03-24T13:43:47.744Z"
   },
   {
    "duration": 4,
    "start_time": "2023-03-24T13:45:32.208Z"
   },
   {
    "duration": 3,
    "start_time": "2023-03-24T13:46:48.637Z"
   },
   {
    "duration": 14,
    "start_time": "2023-03-24T13:51:44.046Z"
   },
   {
    "duration": 6,
    "start_time": "2023-03-24T13:52:47.851Z"
   },
   {
    "duration": 4,
    "start_time": "2023-03-24T13:53:27.838Z"
   },
   {
    "duration": 4,
    "start_time": "2023-03-24T13:55:15.559Z"
   },
   {
    "duration": 142,
    "start_time": "2023-03-24T13:57:46.221Z"
   },
   {
    "duration": 2,
    "start_time": "2023-03-24T14:06:14.086Z"
   },
   {
    "duration": 11,
    "start_time": "2023-03-24T14:07:11.355Z"
   },
   {
    "duration": 83629,
    "start_time": "2023-03-24T14:07:20.536Z"
   },
   {
    "duration": 3,
    "start_time": "2023-03-24T14:13:44.191Z"
   },
   {
    "duration": 76,
    "start_time": "2023-03-24T14:14:36.931Z"
   },
   {
    "duration": 8,
    "start_time": "2023-03-24T14:19:21.667Z"
   },
   {
    "duration": 9,
    "start_time": "2023-03-24T14:19:32.558Z"
   },
   {
    "duration": 16,
    "start_time": "2023-03-24T14:19:37.269Z"
   },
   {
    "duration": 5,
    "start_time": "2023-03-24T14:19:40.751Z"
   },
   {
    "duration": 4,
    "start_time": "2023-03-24T14:19:56.273Z"
   },
   {
    "duration": 20,
    "start_time": "2023-03-24T14:24:04.509Z"
   },
   {
    "duration": 21,
    "start_time": "2023-03-24T14:24:20.420Z"
   },
   {
    "duration": 3,
    "start_time": "2023-03-24T14:24:56.025Z"
   },
   {
    "duration": 12,
    "start_time": "2023-03-24T14:26:31.671Z"
   },
   {
    "duration": 4,
    "start_time": "2023-03-24T14:26:34.362Z"
   },
   {
    "duration": 11,
    "start_time": "2023-03-24T14:27:02.723Z"
   },
   {
    "duration": 6,
    "start_time": "2023-03-24T14:27:37.649Z"
   },
   {
    "duration": 6,
    "start_time": "2023-03-24T14:32:59.198Z"
   },
   {
    "duration": 23,
    "start_time": "2023-03-24T14:37:55.854Z"
   },
   {
    "duration": 17,
    "start_time": "2023-03-24T14:38:54.399Z"
   },
   {
    "duration": 5,
    "start_time": "2023-03-24T14:39:41.855Z"
   },
   {
    "duration": 10,
    "start_time": "2023-03-24T14:41:28.875Z"
   },
   {
    "duration": 6,
    "start_time": "2023-03-24T14:41:31.816Z"
   },
   {
    "duration": 5,
    "start_time": "2023-03-24T14:41:32.345Z"
   },
   {
    "duration": 10,
    "start_time": "2023-03-24T14:44:23.551Z"
   },
   {
    "duration": 3,
    "start_time": "2023-03-24T15:46:03.563Z"
   },
   {
    "duration": 112837,
    "start_time": "2023-03-24T15:49:12.587Z"
   },
   {
    "duration": 5,
    "start_time": "2023-03-24T15:51:17.445Z"
   },
   {
    "duration": 104,
    "start_time": "2023-03-24T15:52:25.310Z"
   },
   {
    "duration": 7,
    "start_time": "2023-03-24T15:58:57.045Z"
   },
   {
    "duration": 17,
    "start_time": "2023-03-24T16:01:24.725Z"
   },
   {
    "duration": 17,
    "start_time": "2023-03-24T16:03:20.910Z"
   },
   {
    "duration": 18,
    "start_time": "2023-03-24T16:05:58.602Z"
   },
   {
    "duration": 4,
    "start_time": "2023-03-24T16:20:12.669Z"
   },
   {
    "duration": 6,
    "start_time": "2023-03-24T16:20:50.104Z"
   },
   {
    "duration": 3,
    "start_time": "2023-03-24T16:21:00.434Z"
   },
   {
    "duration": 5,
    "start_time": "2023-03-24T16:21:06.830Z"
   },
   {
    "duration": 3,
    "start_time": "2023-03-24T16:22:01.589Z"
   },
   {
    "duration": 6,
    "start_time": "2023-03-24T16:23:10.136Z"
   },
   {
    "duration": 3,
    "start_time": "2023-03-24T16:23:23.768Z"
   },
   {
    "duration": 150896,
    "start_time": "2023-03-25T18:13:26.101Z"
   },
   {
    "duration": 1724,
    "start_time": "2023-03-25T18:16:40.742Z"
   },
   {
    "duration": 3,
    "start_time": "2023-03-25T18:16:43.445Z"
   },
   {
    "duration": 93,
    "start_time": "2023-03-25T18:16:48.007Z"
   },
   {
    "duration": 20,
    "start_time": "2023-03-25T18:16:53.832Z"
   },
   {
    "duration": 6,
    "start_time": "2023-03-25T18:17:02.269Z"
   },
   {
    "duration": 4,
    "start_time": "2023-03-25T18:17:05.401Z"
   },
   {
    "duration": 14,
    "start_time": "2023-03-25T18:17:06.726Z"
   },
   {
    "duration": 11,
    "start_time": "2023-03-25T18:17:10.363Z"
   },
   {
    "duration": 6,
    "start_time": "2023-03-25T18:17:11.992Z"
   },
   {
    "duration": 7,
    "start_time": "2023-03-25T18:17:12.914Z"
   },
   {
    "duration": 44,
    "start_time": "2023-03-25T18:17:16.739Z"
   },
   {
    "duration": 1710,
    "start_time": "2023-03-25T18:17:23.954Z"
   },
   {
    "duration": 9,
    "start_time": "2023-03-25T18:17:30.354Z"
   },
   {
    "duration": 8,
    "start_time": "2023-03-25T18:17:31.299Z"
   },
   {
    "duration": 6,
    "start_time": "2023-03-25T18:17:54.926Z"
   },
   {
    "duration": 4,
    "start_time": "2023-03-25T18:19:40.836Z"
   },
   {
    "duration": 4,
    "start_time": "2023-03-25T18:19:42.051Z"
   },
   {
    "duration": 4,
    "start_time": "2023-03-25T18:19:42.998Z"
   },
   {
    "duration": 9,
    "start_time": "2023-03-25T18:21:20.138Z"
   },
   {
    "duration": 4,
    "start_time": "2023-03-25T18:21:21.977Z"
   },
   {
    "duration": 4,
    "start_time": "2023-03-25T18:21:23.604Z"
   },
   {
    "duration": 8,
    "start_time": "2023-03-25T18:22:16.758Z"
   },
   {
    "duration": 9,
    "start_time": "2023-03-25T18:22:17.631Z"
   },
   {
    "duration": 6,
    "start_time": "2023-03-25T18:22:28.762Z"
   },
   {
    "duration": 8,
    "start_time": "2023-03-25T18:26:39.251Z"
   },
   {
    "duration": 4,
    "start_time": "2023-03-25T18:27:19.424Z"
   },
   {
    "duration": 9,
    "start_time": "2023-03-25T18:27:26.614Z"
   },
   {
    "duration": 17,
    "start_time": "2023-03-25T18:27:48.733Z"
   },
   {
    "duration": 2,
    "start_time": "2023-03-25T18:27:53.266Z"
   },
   {
    "duration": 14,
    "start_time": "2023-03-25T18:28:24.240Z"
   },
   {
    "duration": 14,
    "start_time": "2023-03-25T18:28:28.564Z"
   },
   {
    "duration": 15,
    "start_time": "2023-03-25T18:29:25.118Z"
   },
   {
    "duration": 3,
    "start_time": "2023-03-25T18:31:17.802Z"
   },
   {
    "duration": 16,
    "start_time": "2023-03-25T18:31:23.405Z"
   },
   {
    "duration": 9,
    "start_time": "2023-03-25T18:31:39.471Z"
   },
   {
    "duration": 5,
    "start_time": "2023-03-25T18:31:55.455Z"
   },
   {
    "duration": 87,
    "start_time": "2023-03-25T18:33:15.719Z"
   },
   {
    "duration": 4,
    "start_time": "2023-03-25T18:33:32.912Z"
   },
   {
    "duration": 12,
    "start_time": "2023-03-25T18:34:44.917Z"
   },
   {
    "duration": 3,
    "start_time": "2023-03-25T18:37:14.705Z"
   },
   {
    "duration": 103,
    "start_time": "2023-03-25T18:38:50.366Z"
   },
   {
    "duration": 78941,
    "start_time": "2023-03-25T18:39:33.115Z"
   },
   {
    "duration": 3,
    "start_time": "2023-03-25T18:40:52.058Z"
   },
   {
    "duration": 3,
    "start_time": "2023-03-25T18:41:13.136Z"
   },
   {
    "duration": 4,
    "start_time": "2023-03-25T18:41:15.677Z"
   },
   {
    "duration": 3,
    "start_time": "2023-03-25T18:41:44.402Z"
   },
   {
    "duration": 13,
    "start_time": "2023-03-25T18:41:58.799Z"
   },
   {
    "duration": 5,
    "start_time": "2023-03-25T18:42:03.601Z"
   },
   {
    "duration": 4,
    "start_time": "2023-03-25T18:42:30.350Z"
   },
   {
    "duration": 4,
    "start_time": "2023-03-25T18:43:44.862Z"
   },
   {
    "duration": 3,
    "start_time": "2023-03-25T18:43:54.007Z"
   },
   {
    "duration": 4,
    "start_time": "2023-03-25T18:44:11.152Z"
   },
   {
    "duration": 3,
    "start_time": "2023-03-25T18:44:22.584Z"
   },
   {
    "duration": 4,
    "start_time": "2023-03-25T18:44:31.557Z"
   },
   {
    "duration": 3,
    "start_time": "2023-03-25T18:49:57.646Z"
   },
   {
    "duration": 11,
    "start_time": "2023-03-25T18:50:04.729Z"
   },
   {
    "duration": 80699,
    "start_time": "2023-03-25T18:50:18.808Z"
   },
   {
    "duration": 3,
    "start_time": "2023-03-25T18:51:39.509Z"
   },
   {
    "duration": 3,
    "start_time": "2023-03-25T18:51:48.774Z"
   },
   {
    "duration": 10,
    "start_time": "2023-03-25T18:52:15.681Z"
   },
   {
    "duration": 3,
    "start_time": "2023-03-25T18:52:32.938Z"
   },
   {
    "duration": 84,
    "start_time": "2023-03-25T18:54:18.000Z"
   },
   {
    "duration": 80,
    "start_time": "2023-03-25T18:54:21.514Z"
   },
   {
    "duration": 3,
    "start_time": "2023-03-25T18:59:01.681Z"
   },
   {
    "duration": 11,
    "start_time": "2023-03-25T18:59:47.173Z"
   },
   {
    "duration": 14,
    "start_time": "2023-03-25T19:00:00.671Z"
   },
   {
    "duration": 6,
    "start_time": "2023-03-25T19:00:49.347Z"
   },
   {
    "duration": 24,
    "start_time": "2023-03-25T19:10:14.783Z"
   },
   {
    "duration": 22,
    "start_time": "2023-03-25T19:10:35.725Z"
   },
   {
    "duration": 5,
    "start_time": "2023-03-25T19:10:44.817Z"
   },
   {
    "duration": 4,
    "start_time": "2023-03-25T19:11:11.505Z"
   },
   {
    "duration": 9,
    "start_time": "2023-03-25T19:11:37.111Z"
   },
   {
    "duration": 10,
    "start_time": "2023-03-25T19:11:44.804Z"
   },
   {
    "duration": 4,
    "start_time": "2023-03-25T19:12:20.445Z"
   },
   {
    "duration": 47,
    "start_time": "2023-03-25T19:12:21.906Z"
   },
   {
    "duration": 103919,
    "start_time": "2023-03-25T19:12:36.224Z"
   },
   {
    "duration": 3,
    "start_time": "2023-03-25T19:14:20.145Z"
   },
   {
    "duration": 7,
    "start_time": "2023-03-25T19:14:20.149Z"
   },
   {
    "duration": 4,
    "start_time": "2023-03-25T19:17:30.106Z"
   },
   {
    "duration": 101,
    "start_time": "2023-03-25T19:20:07.706Z"
   },
   {
    "duration": 4,
    "start_time": "2023-03-25T19:25:47.588Z"
   },
   {
    "duration": 8,
    "start_time": "2023-03-25T19:26:23.841Z"
   },
   {
    "duration": 16,
    "start_time": "2023-03-25T19:26:41.329Z"
   },
   {
    "duration": 16,
    "start_time": "2023-03-25T19:26:46.811Z"
   },
   {
    "duration": 15,
    "start_time": "2023-03-25T19:26:51.361Z"
   },
   {
    "duration": 2,
    "start_time": "2023-03-25T19:27:16.015Z"
   },
   {
    "duration": 6,
    "start_time": "2023-03-25T19:27:20.384Z"
   },
   {
    "duration": 3,
    "start_time": "2023-03-25T19:27:31.972Z"
   },
   {
    "duration": 6,
    "start_time": "2023-03-25T19:28:35.105Z"
   },
   {
    "duration": 6,
    "start_time": "2023-03-25T19:29:02.207Z"
   },
   {
    "duration": 7,
    "start_time": "2023-03-25T19:29:14.641Z"
   },
   {
    "duration": 4,
    "start_time": "2023-03-25T19:29:18.637Z"
   },
   {
    "duration": 5,
    "start_time": "2023-03-25T19:29:19.744Z"
   },
   {
    "duration": 3,
    "start_time": "2023-03-25T19:29:20.330Z"
   },
   {
    "duration": 10,
    "start_time": "2023-03-25T19:32:56.947Z"
   },
   {
    "duration": 4,
    "start_time": "2023-03-25T19:33:05.700Z"
   },
   {
    "duration": 1303,
    "start_time": "2023-03-25T19:34:10.167Z"
   },
   {
    "duration": 79,
    "start_time": "2023-03-25T19:34:15.578Z"
   },
   {
    "duration": 5,
    "start_time": "2023-03-25T19:36:46.743Z"
   },
   {
    "duration": 82,
    "start_time": "2023-03-25T19:40:30.315Z"
   },
   {
    "duration": 4,
    "start_time": "2023-03-25T19:41:27.870Z"
   },
   {
    "duration": 5,
    "start_time": "2023-03-25T19:41:56.936Z"
   },
   {
    "duration": 4,
    "start_time": "2023-03-25T19:48:01.424Z"
   },
   {
    "duration": 103,
    "start_time": "2023-03-25T19:50:23.520Z"
   },
   {
    "duration": 3,
    "start_time": "2023-03-25T19:50:33.210Z"
   },
   {
    "duration": 11,
    "start_time": "2023-03-25T19:52:50.239Z"
   },
   {
    "duration": 3,
    "start_time": "2023-03-25T19:53:14.187Z"
   },
   {
    "duration": 3,
    "start_time": "2023-03-25T20:21:43.314Z"
   },
   {
    "duration": 6,
    "start_time": "2023-03-25T20:23:34.336Z"
   },
   {
    "duration": 2380,
    "start_time": "2023-03-25T20:32:21.807Z"
   },
   {
    "duration": 1315,
    "start_time": "2023-03-25T20:32:24.189Z"
   },
   {
    "duration": 4,
    "start_time": "2023-03-25T20:32:25.506Z"
   },
   {
    "duration": 63,
    "start_time": "2023-03-25T20:32:25.512Z"
   },
   {
    "duration": 19,
    "start_time": "2023-03-25T20:32:25.577Z"
   },
   {
    "duration": 5,
    "start_time": "2023-03-25T20:32:25.598Z"
   },
   {
    "duration": 11,
    "start_time": "2023-03-25T20:32:25.605Z"
   },
   {
    "duration": 16,
    "start_time": "2023-03-25T20:32:25.618Z"
   },
   {
    "duration": 13,
    "start_time": "2023-03-25T20:32:25.635Z"
   },
   {
    "duration": 17,
    "start_time": "2023-03-25T20:32:25.651Z"
   },
   {
    "duration": 7,
    "start_time": "2023-03-25T20:32:25.670Z"
   },
   {
    "duration": 65,
    "start_time": "2023-03-25T20:32:25.679Z"
   },
   {
    "duration": 2109,
    "start_time": "2023-03-25T20:32:25.747Z"
   },
   {
    "duration": 9,
    "start_time": "2023-03-25T20:32:27.858Z"
   },
   {
    "duration": 14,
    "start_time": "2023-03-25T20:32:27.869Z"
   },
   {
    "duration": 6,
    "start_time": "2023-03-25T20:32:27.885Z"
   },
   {
    "duration": 9,
    "start_time": "2023-03-25T20:32:27.892Z"
   },
   {
    "duration": 8,
    "start_time": "2023-03-25T20:32:27.903Z"
   },
   {
    "duration": 15,
    "start_time": "2023-03-25T20:32:27.913Z"
   },
   {
    "duration": 6,
    "start_time": "2023-03-25T20:32:27.929Z"
   },
   {
    "duration": 19,
    "start_time": "2023-03-25T20:32:27.937Z"
   },
   {
    "duration": 14,
    "start_time": "2023-03-25T20:32:27.958Z"
   },
   {
    "duration": 15,
    "start_time": "2023-03-25T20:32:27.974Z"
   },
   {
    "duration": 12,
    "start_time": "2023-03-25T20:32:27.991Z"
   },
   {
    "duration": 19,
    "start_time": "2023-03-25T20:32:28.005Z"
   },
   {
    "duration": 6,
    "start_time": "2023-03-25T20:32:28.025Z"
   },
   {
    "duration": 10,
    "start_time": "2023-03-25T20:32:28.033Z"
   },
   {
    "duration": 22,
    "start_time": "2023-03-25T20:32:28.049Z"
   },
   {
    "duration": 12,
    "start_time": "2023-03-25T20:32:28.073Z"
   },
   {
    "duration": 20,
    "start_time": "2023-03-25T20:32:28.087Z"
   },
   {
    "duration": 37,
    "start_time": "2023-03-25T20:32:28.109Z"
   },
   {
    "duration": 37,
    "start_time": "2023-03-25T20:32:28.148Z"
   },
   {
    "duration": 16,
    "start_time": "2023-03-25T20:32:28.187Z"
   },
   {
    "duration": 41,
    "start_time": "2023-03-25T20:32:28.205Z"
   },
   {
    "duration": 3,
    "start_time": "2023-03-25T20:32:28.249Z"
   },
   {
    "duration": 87,
    "start_time": "2023-03-25T20:32:28.254Z"
   },
   {
    "duration": 19,
    "start_time": "2023-03-25T20:32:28.346Z"
   },
   {
    "duration": 195,
    "start_time": "2023-03-25T20:32:28.368Z"
   },
   {
    "duration": 8,
    "start_time": "2023-03-25T20:32:28.565Z"
   },
   {
    "duration": 14,
    "start_time": "2023-03-25T20:32:28.575Z"
   },
   {
    "duration": 148,
    "start_time": "2023-03-25T20:32:28.595Z"
   },
   {
    "duration": 88241,
    "start_time": "2023-03-25T20:32:28.746Z"
   },
   {
    "duration": 3,
    "start_time": "2023-03-25T20:33:56.989Z"
   },
   {
    "duration": 8,
    "start_time": "2023-03-25T20:33:56.994Z"
   },
   {
    "duration": 7,
    "start_time": "2023-03-25T20:33:57.003Z"
   },
   {
    "duration": 16,
    "start_time": "2023-03-25T20:33:57.011Z"
   },
   {
    "duration": 18,
    "start_time": "2023-03-25T20:33:57.028Z"
   },
   {
    "duration": 19,
    "start_time": "2023-03-25T20:33:57.048Z"
   },
   {
    "duration": 5,
    "start_time": "2023-03-25T20:33:57.070Z"
   },
   {
    "duration": 8,
    "start_time": "2023-03-25T20:33:57.077Z"
   },
   {
    "duration": 80904,
    "start_time": "2023-03-25T20:33:57.086Z"
   },
   {
    "duration": 3,
    "start_time": "2023-03-25T20:35:17.992Z"
   },
   {
    "duration": 11,
    "start_time": "2023-03-25T20:35:17.997Z"
   },
   {
    "duration": 6,
    "start_time": "2023-03-25T20:35:18.009Z"
   },
   {
    "duration": 100,
    "start_time": "2023-03-25T20:35:18.017Z"
   },
   {
    "duration": 4,
    "start_time": "2023-03-25T20:35:18.119Z"
   },
   {
    "duration": 31,
    "start_time": "2023-03-25T20:35:18.124Z"
   },
   {
    "duration": 7,
    "start_time": "2023-03-25T20:35:18.157Z"
   },
   {
    "duration": 27,
    "start_time": "2023-03-25T20:35:18.166Z"
   },
   {
    "duration": 57,
    "start_time": "2023-03-25T20:35:18.195Z"
   },
   {
    "duration": 90,
    "start_time": "2023-03-25T20:35:18.254Z"
   },
   {
    "duration": 6,
    "start_time": "2023-03-25T20:35:18.346Z"
   },
   {
    "duration": 90,
    "start_time": "2023-03-25T20:35:18.354Z"
   },
   {
    "duration": 99,
    "start_time": "2023-03-25T20:35:18.447Z"
   },
   {
    "duration": 108092,
    "start_time": "2023-03-25T20:35:18.548Z"
   },
   {
    "duration": 3,
    "start_time": "2023-03-25T20:37:06.642Z"
   },
   {
    "duration": 31,
    "start_time": "2023-03-25T20:37:06.648Z"
   },
   {
    "duration": 9,
    "start_time": "2023-03-25T20:37:06.681Z"
   },
   {
    "duration": 128,
    "start_time": "2023-03-25T20:37:06.692Z"
   },
   {
    "duration": 4,
    "start_time": "2023-03-25T20:37:06.822Z"
   },
   {
    "duration": 16,
    "start_time": "2023-03-25T20:37:06.827Z"
   },
   {
    "duration": 29,
    "start_time": "2023-03-25T20:37:06.845Z"
   },
   {
    "duration": 16,
    "start_time": "2023-03-25T20:37:06.876Z"
   },
   {
    "duration": 15,
    "start_time": "2023-03-25T20:37:06.894Z"
   },
   {
    "duration": 2,
    "start_time": "2023-03-25T20:37:06.911Z"
   },
   {
    "duration": 27,
    "start_time": "2023-03-25T20:37:06.915Z"
   },
   {
    "duration": 5,
    "start_time": "2023-03-25T20:37:06.944Z"
   },
   {
    "duration": 12,
    "start_time": "2023-03-25T20:37:06.950Z"
   },
   {
    "duration": 8,
    "start_time": "2023-03-25T20:37:06.964Z"
   },
   {
    "duration": 9,
    "start_time": "2023-03-25T20:37:06.974Z"
   },
   {
    "duration": 4,
    "start_time": "2023-03-25T20:37:06.984Z"
   },
   {
    "duration": 3,
    "start_time": "2023-03-25T20:37:06.993Z"
   },
   {
    "duration": 1310,
    "start_time": "2023-03-25T20:37:06.998Z"
   },
   {
    "duration": 86,
    "start_time": "2023-03-25T20:37:08.310Z"
   },
   {
    "duration": 6,
    "start_time": "2023-03-25T20:37:08.398Z"
   },
   {
    "duration": 145,
    "start_time": "2023-03-25T20:37:08.406Z"
   },
   {
    "duration": 4,
    "start_time": "2023-03-25T20:37:08.554Z"
   },
   {
    "duration": 8,
    "start_time": "2023-03-25T20:37:08.560Z"
   },
   {
    "duration": 10,
    "start_time": "2023-03-25T20:37:08.569Z"
   }
  ],
  "kernelspec": {
   "display_name": "Python 3",
   "language": "python",
   "name": "python3"
  },
  "language_info": {
   "codemirror_mode": {
    "name": "ipython",
    "version": 3
   },
   "file_extension": ".py",
   "mimetype": "text/x-python",
   "name": "python",
   "nbconvert_exporter": "python",
   "pygments_lexer": "ipython3",
   "version": "3.8.3"
  },
  "toc": {
   "base_numbering": 1,
   "nav_menu": {},
   "number_sections": true,
   "sideBar": true,
   "skip_h1_title": true,
   "title_cell": "Содержание",
   "title_sidebar": "Contents",
   "toc_cell": true,
   "toc_position": {},
   "toc_section_display": true,
   "toc_window_display": false
  }
 },
 "nbformat": 4,
 "nbformat_minor": 2
}
